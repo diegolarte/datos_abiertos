{
  "cells": [
    {
      "cell_type": "markdown",
      "metadata": {
        "id": "view-in-github",
        "colab_type": "text"
      },
      "source": [
        "<a href=\"https://colab.research.google.com/github/diegolarte/datos_abiertos/blob/main/Curso%20IBM/Modulo%204/Modulo4_Notes_IBM_Python_for_Data_Science_A01792048.ipynb\" target=\"_parent\"><img src=\"https://colab.research.google.com/assets/colab-badge.svg\" alt=\"Open In Colab\"/></a>"
      ]
    },
    {
      "cell_type": "markdown",
      "metadata": {
        "id": "CBME9yu_WLmD"
      },
      "source": [
        "#ACTIVIDAD MODULO 4\n",
        "#NOMBRE: DIEGO ALBERTO OLARTE MIRA\n",
        "#MATRICULA: A01792048"
      ]
    },
    {
      "cell_type": "markdown",
      "metadata": {
        "id": "7lsU4TK9noPZ"
      },
      "source": [
        "##Module 4 - Working with Data in Python"
      ]
    },
    {
      "cell_type": "markdown",
      "metadata": {
        "id": "la-PARa8r0Cm"
      },
      "source": [
        "###Reading Files with Open"
      ]
    },
    {
      "cell_type": "markdown",
      "metadata": {
        "id": "kRj-fdCwf89S"
      },
      "source": [
        "- Open function is ued to get a file object\n",
        "- The first parameter of the function open is the file path\n",
        "- the second parameter is the mode (r for reading, w for writing , a for appending)\n",
        "- Using with statement to open file is better practice because it automatically closes the file"
      ]
    },
    {
      "cell_type": "markdown",
      "metadata": {
        "id": "ndtTrk1Qsk2B"
      },
      "source": [
        "<h3>Read Example</h3>"
      ]
    },
    {
      "cell_type": "code",
      "execution_count": null,
      "metadata": {
        "colab": {
          "base_uri": "https://localhost:8080/"
        },
        "id": "Eq50lDW_snt8",
        "outputId": "9fba6653-54af-4f29-b519-0845dffe3fea"
      },
      "outputs": [
        {
          "name": "stdout",
          "output_type": "stream",
          "text": [
            "example1.txt\n"
          ]
        }
      ],
      "source": [
        "input_path = \"example1.txt\"\n",
        "read_file = open(input_path, \"r\")\n",
        "print(read_file.name)"
      ]
    },
    {
      "cell_type": "markdown",
      "metadata": {
        "id": "ypcooOYXszEg"
      },
      "source": [
        "<h3>Read file and assign to variable</h3> "
      ]
    },
    {
      "cell_type": "code",
      "execution_count": null,
      "metadata": {
        "colab": {
          "base_uri": "https://localhost:8080/"
        },
        "id": "dWpi34ypsrpv",
        "outputId": "581cc8cc-02b6-4381-d2fb-5e8fd70eb58d"
      },
      "outputs": [
        {
          "name": "stdout",
          "output_type": "stream",
          "text": [
            "This is line 1 \n",
            "This is line 2\n",
            "This is line 3\n"
          ]
        }
      ],
      "source": [
        "content = read_file.read()\n",
        "print(content)"
      ]
    },
    {
      "cell_type": "markdown",
      "metadata": {
        "id": "xdwaLe9ZtCca"
      },
      "source": [
        "<h3>Open file using <code>with</code> statement</h3> "
      ]
    },
    {
      "cell_type": "code",
      "execution_count": null,
      "metadata": {
        "id": "0R8eOa_StEA0",
        "outputId": "6efe662b-8448-4dbf-85be-81852ca1ad7d"
      },
      "outputs": [
        {
          "name": "stdout",
          "output_type": "stream",
          "text": [
            "This is line 1 \n",
            "This is line 2\n",
            "This is line 3\n"
          ]
        }
      ],
      "source": [
        "with open(input_path, \"r\") as file1:\n",
        "    open_content = file1.read()\n",
        "    print(open_content)"
      ]
    },
    {
      "cell_type": "markdown",
      "metadata": {
        "id": "IXUrzY1mf89i"
      },
      "source": [
        "<h3>use a loop to iterate through each line</h3> "
      ]
    },
    {
      "cell_type": "code",
      "execution_count": null,
      "metadata": {
        "id": "4CuxZGsUf89k",
        "outputId": "0acebf53-dcfb-4eac-806b-31d0219f9d38"
      },
      "outputs": [
        {
          "name": "stdout",
          "output_type": "stream",
          "text": [
            "This is line 1 \n",
            "This is line 2\n",
            "This is line 3\n"
          ]
        }
      ],
      "source": [
        "with open(input_path, \"r\") as file1:\n",
        "    open_content = file1.read()\n",
        "    print(open_content)"
      ]
    },
    {
      "cell_type": "markdown",
      "metadata": {
        "id": "hJNtlld9f89m"
      },
      "source": [
        "<h3>Read all lines and save as a list</h3> "
      ]
    },
    {
      "cell_type": "code",
      "execution_count": null,
      "metadata": {
        "id": "1v1YnXuDf89n"
      },
      "outputs": [],
      "source": [
        "with open(input_path, \"r\") as file1:\n",
        "    FileasList = file1.readlines()"
      ]
    },
    {
      "cell_type": "code",
      "execution_count": null,
      "metadata": {
        "id": "x0z0g8PLf89o",
        "outputId": "811e6056-710b-4ac1-f8e5-8145b2443cfb"
      },
      "outputs": [
        {
          "name": "stdout",
          "output_type": "stream",
          "text": [
            "This is line 1 \n",
            "\n",
            "This is line 2\n",
            "\n",
            "This is line 3\n"
          ]
        }
      ],
      "source": [
        "print(FileasList[0])\n",
        "print(FileasList[1])\n",
        "print(FileasList[2])"
      ]
    },
    {
      "cell_type": "markdown",
      "metadata": {
        "id": "ayb7ma22f89q"
      },
      "source": [
        "###Writing Files with Open"
      ]
    },
    {
      "cell_type": "markdown",
      "metadata": {
        "id": "SN7W9rCDf89r"
      },
      "source": [
        "<h3>Write line to a file</h3> "
      ]
    },
    {
      "cell_type": "code",
      "execution_count": null,
      "metadata": {
        "id": "bUyvHLxuf89t",
        "outputId": "d7a97472-e05c-4a72-e68d-aedf3634fa68"
      },
      "outputs": [
        {
          "name": "stdout",
          "output_type": "stream",
          "text": [
            "This is line A\n"
          ]
        }
      ],
      "source": [
        "write_file = 'example_write.txt'\n",
        "with open(write_file,'w') as writefile:\n",
        "    writefile.write(\"This is line A\")\n",
        "\n",
        "with open(write_file, 'r') as testwritefile:\n",
        "    print(testwritefile.read())"
      ]
    },
    {
      "cell_type": "markdown",
      "metadata": {
        "id": "T_psGkFrf89u"
      },
      "source": [
        "<h3>Write a list to a file</h3>  \n",
        "the mode w overwrites all the existing data in the file\n"
      ]
    },
    {
      "cell_type": "code",
      "execution_count": null,
      "metadata": {
        "id": "B9kSJxsff89u",
        "outputId": "d57eb02f-5eeb-44e4-c285-88560abfedb8"
      },
      "outputs": [
        {
          "name": "stdout",
          "output_type": "stream",
          "text": [
            "This is line A\n",
            "\n",
            "This is line B\n",
            "\n",
            "This is line C\n",
            "\n"
          ]
        }
      ],
      "source": [
        "Lines = [\"This is line A\\n\", \"This is line B\\n\", \"This is line C\\n\"]\n",
        "with open('example_write.txt', 'w') as writefile:\n",
        "    for line in Lines:\n",
        "        print(line)\n",
        "        writefile.write(line)"
      ]
    },
    {
      "cell_type": "markdown",
      "metadata": {
        "id": "vLQFvK40f89u"
      },
      "source": [
        "###Loading Data with Pandas"
      ]
    },
    {
      "cell_type": "markdown",
      "metadata": {
        "id": "hZ5duIW-f89v"
      },
      "source": [
        "- pandas is a library for data analysis\n",
        "- pandas allows to work with data as a data frame"
      ]
    },
    {
      "cell_type": "markdown",
      "metadata": {
        "id": "VeK0zs4Tf89v"
      },
      "source": [
        "<h3>Read a csv file and show the first elements</h3>  "
      ]
    },
    {
      "cell_type": "code",
      "execution_count": null,
      "metadata": {
        "id": "ErmWRarvf89w",
        "outputId": "b4db60d7-b59c-45f4-e492-48eb37220a71"
      },
      "outputs": [
        {
          "data": {
            "text/html": [
              "<div>\n",
              "<style scoped>\n",
              "    .dataframe tbody tr th:only-of-type {\n",
              "        vertical-align: middle;\n",
              "    }\n",
              "\n",
              "    .dataframe tbody tr th {\n",
              "        vertical-align: top;\n",
              "    }\n",
              "\n",
              "    .dataframe thead th {\n",
              "        text-align: right;\n",
              "    }\n",
              "</style>\n",
              "<table border=\"1\" class=\"dataframe\">\n",
              "  <thead>\n",
              "    <tr style=\"text-align: right;\">\n",
              "      <th></th>\n",
              "      <th>Artist</th>\n",
              "      <th>Album</th>\n",
              "      <th>Released</th>\n",
              "      <th>Length</th>\n",
              "      <th>Genre</th>\n",
              "      <th>Music Recording Sales (millions)</th>\n",
              "      <th>Claimed Sales (millions)</th>\n",
              "      <th>Released.1</th>\n",
              "      <th>Soundtrack</th>\n",
              "      <th>Rating</th>\n",
              "    </tr>\n",
              "  </thead>\n",
              "  <tbody>\n",
              "    <tr>\n",
              "      <th>0</th>\n",
              "      <td>Michael Jackson</td>\n",
              "      <td>Thriller</td>\n",
              "      <td>1982</td>\n",
              "      <td>0:42:19</td>\n",
              "      <td>pop, rock, R&amp;B</td>\n",
              "      <td>46.0</td>\n",
              "      <td>65</td>\n",
              "      <td>30-Nov-82</td>\n",
              "      <td>NaN</td>\n",
              "      <td>10.0</td>\n",
              "    </tr>\n",
              "    <tr>\n",
              "      <th>1</th>\n",
              "      <td>AC/DC</td>\n",
              "      <td>Back in Black</td>\n",
              "      <td>1980</td>\n",
              "      <td>0:42:11</td>\n",
              "      <td>hard rock</td>\n",
              "      <td>26.1</td>\n",
              "      <td>50</td>\n",
              "      <td>25-Jul-80</td>\n",
              "      <td>NaN</td>\n",
              "      <td>9.5</td>\n",
              "    </tr>\n",
              "    <tr>\n",
              "      <th>2</th>\n",
              "      <td>Pink Floyd</td>\n",
              "      <td>The Dark Side of the Moon</td>\n",
              "      <td>1973</td>\n",
              "      <td>0:42:49</td>\n",
              "      <td>progressive rock</td>\n",
              "      <td>24.2</td>\n",
              "      <td>45</td>\n",
              "      <td>01-Mar-73</td>\n",
              "      <td>NaN</td>\n",
              "      <td>9.0</td>\n",
              "    </tr>\n",
              "    <tr>\n",
              "      <th>3</th>\n",
              "      <td>Whitney Houston</td>\n",
              "      <td>The Bodyguard</td>\n",
              "      <td>1992</td>\n",
              "      <td>0:57:44</td>\n",
              "      <td>R&amp;B, soul, pop</td>\n",
              "      <td>27.4</td>\n",
              "      <td>44</td>\n",
              "      <td>17-Nov-92</td>\n",
              "      <td>Y</td>\n",
              "      <td>8.5</td>\n",
              "    </tr>\n",
              "    <tr>\n",
              "      <th>4</th>\n",
              "      <td>Meat Loaf</td>\n",
              "      <td>Bat Out of Hell</td>\n",
              "      <td>1977</td>\n",
              "      <td>0:46:33</td>\n",
              "      <td>hard rock, progressive rock</td>\n",
              "      <td>20.6</td>\n",
              "      <td>43</td>\n",
              "      <td>21-Oct-77</td>\n",
              "      <td>NaN</td>\n",
              "      <td>8.0</td>\n",
              "    </tr>\n",
              "  </tbody>\n",
              "</table>\n",
              "</div>"
            ],
            "text/plain": [
              "            Artist                      Album  Released   Length  \\\n",
              "0  Michael Jackson                   Thriller      1982  0:42:19   \n",
              "1            AC/DC              Back in Black      1980  0:42:11   \n",
              "2       Pink Floyd  The Dark Side of the Moon      1973  0:42:49   \n",
              "3  Whitney Houston              The Bodyguard      1992  0:57:44   \n",
              "4        Meat Loaf            Bat Out of Hell      1977  0:46:33   \n",
              "\n",
              "                         Genre  Music Recording Sales (millions)  \\\n",
              "0               pop, rock, R&B                              46.0   \n",
              "1                    hard rock                              26.1   \n",
              "2             progressive rock                              24.2   \n",
              "3               R&B, soul, pop                              27.4   \n",
              "4  hard rock, progressive rock                              20.6   \n",
              "\n",
              "   Claimed Sales (millions) Released.1 Soundtrack  Rating  \n",
              "0                        65  30-Nov-82        NaN    10.0  \n",
              "1                        50  25-Jul-80        NaN     9.5  \n",
              "2                        45  01-Mar-73        NaN     9.0  \n",
              "3                        44  17-Nov-92          Y     8.5  \n",
              "4                        43  21-Oct-77        NaN     8.0  "
            ]
          },
          "execution_count": 17,
          "metadata": {},
          "output_type": "execute_result"
        }
      ],
      "source": [
        "import pandas as pd\n",
        "df = pd.read_csv(\"TopSellingAlbums.csv\")\n",
        "df.head()\n"
      ]
    },
    {
      "cell_type": "markdown",
      "metadata": {
        "id": "bO6WyN53f89x"
      },
      "source": [
        "<h3>Access to a specific column</h3>  "
      ]
    },
    {
      "cell_type": "code",
      "execution_count": null,
      "metadata": {
        "id": "z9GBTrggf89z",
        "outputId": "2c331bdb-c985-46ee-88b9-4521d995028d"
      },
      "outputs": [
        {
          "data": {
            "text/html": [
              "<div>\n",
              "<style scoped>\n",
              "    .dataframe tbody tr th:only-of-type {\n",
              "        vertical-align: middle;\n",
              "    }\n",
              "\n",
              "    .dataframe tbody tr th {\n",
              "        vertical-align: top;\n",
              "    }\n",
              "\n",
              "    .dataframe thead th {\n",
              "        text-align: right;\n",
              "    }\n",
              "</style>\n",
              "<table border=\"1\" class=\"dataframe\">\n",
              "  <thead>\n",
              "    <tr style=\"text-align: right;\">\n",
              "      <th></th>\n",
              "      <th>Length</th>\n",
              "    </tr>\n",
              "  </thead>\n",
              "  <tbody>\n",
              "    <tr>\n",
              "      <th>0</th>\n",
              "      <td>0:42:19</td>\n",
              "    </tr>\n",
              "    <tr>\n",
              "      <th>1</th>\n",
              "      <td>0:42:11</td>\n",
              "    </tr>\n",
              "    <tr>\n",
              "      <th>2</th>\n",
              "      <td>0:42:49</td>\n",
              "    </tr>\n",
              "    <tr>\n",
              "      <th>3</th>\n",
              "      <td>0:57:44</td>\n",
              "    </tr>\n",
              "    <tr>\n",
              "      <th>4</th>\n",
              "      <td>0:46:33</td>\n",
              "    </tr>\n",
              "    <tr>\n",
              "      <th>5</th>\n",
              "      <td>0:43:08</td>\n",
              "    </tr>\n",
              "    <tr>\n",
              "      <th>6</th>\n",
              "      <td>1:15:54</td>\n",
              "    </tr>\n",
              "    <tr>\n",
              "      <th>7</th>\n",
              "      <td>0:40:01</td>\n",
              "    </tr>\n",
              "  </tbody>\n",
              "</table>\n",
              "</div>"
            ],
            "text/plain": [
              "    Length\n",
              "0  0:42:19\n",
              "1  0:42:11\n",
              "2  0:42:49\n",
              "3  0:57:44\n",
              "4  0:46:33\n",
              "5  0:43:08\n",
              "6  1:15:54\n",
              "7  0:40:01"
            ]
          },
          "execution_count": 20,
          "metadata": {},
          "output_type": "execute_result"
        }
      ],
      "source": [
        "col_length = df[['Length']]\n",
        "col_length"
      ]
    },
    {
      "cell_type": "markdown",
      "metadata": {
        "id": "xsgIk8tMf89z"
      },
      "source": [
        "<h3>Access to multiple columns</h3>  "
      ]
    },
    {
      "cell_type": "code",
      "execution_count": null,
      "metadata": {
        "id": "25VjBAlff890",
        "outputId": "531805d1-9f22-4927-8a30-91954c01900f"
      },
      "outputs": [
        {
          "data": {
            "text/html": [
              "<div>\n",
              "<style scoped>\n",
              "    .dataframe tbody tr th:only-of-type {\n",
              "        vertical-align: middle;\n",
              "    }\n",
              "\n",
              "    .dataframe tbody tr th {\n",
              "        vertical-align: top;\n",
              "    }\n",
              "\n",
              "    .dataframe thead th {\n",
              "        text-align: right;\n",
              "    }\n",
              "</style>\n",
              "<table border=\"1\" class=\"dataframe\">\n",
              "  <thead>\n",
              "    <tr style=\"text-align: right;\">\n",
              "      <th></th>\n",
              "      <th>Artist</th>\n",
              "      <th>Length</th>\n",
              "      <th>Genre</th>\n",
              "    </tr>\n",
              "  </thead>\n",
              "  <tbody>\n",
              "    <tr>\n",
              "      <th>0</th>\n",
              "      <td>Michael Jackson</td>\n",
              "      <td>0:42:19</td>\n",
              "      <td>pop, rock, R&amp;B</td>\n",
              "    </tr>\n",
              "    <tr>\n",
              "      <th>1</th>\n",
              "      <td>AC/DC</td>\n",
              "      <td>0:42:11</td>\n",
              "      <td>hard rock</td>\n",
              "    </tr>\n",
              "    <tr>\n",
              "      <th>2</th>\n",
              "      <td>Pink Floyd</td>\n",
              "      <td>0:42:49</td>\n",
              "      <td>progressive rock</td>\n",
              "    </tr>\n",
              "    <tr>\n",
              "      <th>3</th>\n",
              "      <td>Whitney Houston</td>\n",
              "      <td>0:57:44</td>\n",
              "      <td>R&amp;B, soul, pop</td>\n",
              "    </tr>\n",
              "    <tr>\n",
              "      <th>4</th>\n",
              "      <td>Meat Loaf</td>\n",
              "      <td>0:46:33</td>\n",
              "      <td>hard rock, progressive rock</td>\n",
              "    </tr>\n",
              "    <tr>\n",
              "      <th>5</th>\n",
              "      <td>Eagles</td>\n",
              "      <td>0:43:08</td>\n",
              "      <td>rock, soft rock, folk rock</td>\n",
              "    </tr>\n",
              "    <tr>\n",
              "      <th>6</th>\n",
              "      <td>Bee Gees</td>\n",
              "      <td>1:15:54</td>\n",
              "      <td>disco</td>\n",
              "    </tr>\n",
              "    <tr>\n",
              "      <th>7</th>\n",
              "      <td>Fleetwood Mac</td>\n",
              "      <td>0:40:01</td>\n",
              "      <td>soft rock</td>\n",
              "    </tr>\n",
              "  </tbody>\n",
              "</table>\n",
              "</div>"
            ],
            "text/plain": [
              "            Artist   Length                        Genre\n",
              "0  Michael Jackson  0:42:19               pop, rock, R&B\n",
              "1            AC/DC  0:42:11                    hard rock\n",
              "2       Pink Floyd  0:42:49             progressive rock\n",
              "3  Whitney Houston  0:57:44               R&B, soul, pop\n",
              "4        Meat Loaf  0:46:33  hard rock, progressive rock\n",
              "5           Eagles  0:43:08   rock, soft rock, folk rock\n",
              "6         Bee Gees  1:15:54                        disco\n",
              "7    Fleetwood Mac  0:40:01                    soft rock"
            ]
          },
          "execution_count": 21,
          "metadata": {},
          "output_type": "execute_result"
        }
      ],
      "source": [
        "y = df[['Artist','Length','Genre']]\n",
        "y"
      ]
    },
    {
      "cell_type": "markdown",
      "metadata": {
        "id": "_b41rOuxf891"
      },
      "source": [
        "<h3>Use iloc to Access to specific value</h3>  "
      ]
    },
    {
      "cell_type": "code",
      "execution_count": null,
      "metadata": {
        "id": "YeUQh91df892",
        "outputId": "6cd050b2-f667-4d2f-b3f2-31ce32f7e08c"
      },
      "outputs": [
        {
          "data": {
            "text/plain": [
              "1980"
            ]
          },
          "execution_count": 22,
          "metadata": {},
          "output_type": "execute_result"
        }
      ],
      "source": [
        "# Access the value on the second row and the third column\n",
        "df.iloc[1,2]"
      ]
    },
    {
      "cell_type": "markdown",
      "metadata": {
        "id": "jCScDlGWf893"
      },
      "source": [
        "<h3>Use loc to Access to specific value</h3>  \n"
      ]
    },
    {
      "cell_type": "code",
      "execution_count": null,
      "metadata": {
        "id": "bfKOBZu6f894",
        "outputId": "911b250c-a8c3-4c21-8def-1a4b1cbee1b2"
      },
      "outputs": [
        {
          "data": {
            "text/plain": [
              "1980"
            ]
          },
          "execution_count": 23,
          "metadata": {},
          "output_type": "execute_result"
        }
      ],
      "source": [
        "# Access the column using the name\n",
        "\n",
        "df.loc[1, 'Released']"
      ]
    },
    {
      "cell_type": "markdown",
      "source": [
        "### IBM Course Progress"
      ],
      "metadata": {
        "id": "uLq_Dwc_gB64"
      }
    },
    {
      "cell_type": "markdown",
      "source": [
        "![imagen.png](data:image/png;base64,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)"
      ],
      "metadata": {
        "id": "uw-qa808f_e-"
      }
    },
    {
      "cell_type": "code",
      "source": [],
      "metadata": {
        "id": "n_pT9QuTgAmz"
      },
      "execution_count": null,
      "outputs": []
    }
  ],
  "metadata": {
    "colab": {
      "collapsed_sections": [],
      "provenance": [],
      "include_colab_link": true
    },
    "kernelspec": {
      "display_name": "Python 3.10.2 64-bit",
      "language": "python",
      "name": "python3"
    },
    "language_info": {
      "codemirror_mode": {
        "name": "ipython",
        "version": 3
      },
      "file_extension": ".py",
      "mimetype": "text/x-python",
      "name": "python",
      "nbconvert_exporter": "python",
      "pygments_lexer": "ipython3",
      "version": "3.10.2"
    },
    "vscode": {
      "interpreter": {
        "hash": "4dd15ac4cfe006e7770f1748318df5853f91b1709ffe23ecf86429a8a977c856"
      }
    }
  },
  "nbformat": 4,
  "nbformat_minor": 0
}