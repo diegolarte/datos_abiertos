{
  "nbformat": 4,
  "nbformat_minor": 0,
  "metadata": {
    "kernelspec": {
      "display_name": "Python 3",
      "language": "python",
      "name": "python3"
    },
    "language_info": {
      "codemirror_mode": {
        "name": "ipython",
        "version": 3
      },
      "file_extension": ".py",
      "mimetype": "text/x-python",
      "name": "python",
      "nbconvert_exporter": "python",
      "pygments_lexer": "ipython3",
      "version": "3.7.7"
    },
    "colab": {
      "provenance": [],
      "include_colab_link": true
    },
    "gpuClass": "standard"
  },
  "cells": [
    {
      "cell_type": "markdown",
      "metadata": {
        "id": "view-in-github",
        "colab_type": "text"
      },
      "source": [
        "<a href=\"https://colab.research.google.com/github/diegolarte/datos_abiertos/blob/main/Modulo5/Regresion_lineal_polinomial.ipynb\" target=\"_parent\"><img src=\"https://colab.research.google.com/assets/colab-badge.svg\" alt=\"Open In Colab\"/></a>"
      ]
    },
    {
      "cell_type": "markdown",
      "metadata": {
        "id": "WUO-kdryVQwK"
      },
      "source": [
        "# Linear Models\n"
      ]
    },
    {
      "cell_type": "code",
      "source": [],
      "metadata": {
        "id": "Msm89naSzi21"
      },
      "execution_count": 139,
      "outputs": []
    },
    {
      "cell_type": "markdown",
      "metadata": {
        "id": "u3ytB4LpVQwM"
      },
      "source": [
        "- In supervised learning, the training data fed to the algorithm includes the desired solutions, called labels. \n",
        "- In **regression**, the labels are continuous quantities.\n",
        "- Linear models predict by computing a weighted sum of input features plus a bias term."
      ]
    },
    {
      "cell_type": "code",
      "metadata": {
        "id": "HMp_I4Y6VQwN"
      },
      "source": [
        "import numpy as np\n",
        "%matplotlib inline\n",
        "import matplotlib\n",
        "import matplotlib.pyplot as plt\n",
        "import pandas as pd\n",
        "import seaborn as sns\n",
        "# to make this notebook's output stable across runs\n",
        "np.random.seed(42)"
      ],
      "execution_count": 140,
      "outputs": []
    },
    {
      "cell_type": "code",
      "source": [
        "5-2"
      ],
      "metadata": {
        "colab": {
          "base_uri": "https://localhost:8080/"
        },
        "id": "exg6xSYf3F5D",
        "outputId": "1b4f347d-e61a-4561-bb93-da5dfc72ca7c"
      },
      "execution_count": 141,
      "outputs": [
        {
          "output_type": "execute_result",
          "data": {
            "text/plain": [
              "3"
            ]
          },
          "metadata": {},
          "execution_count": 141
        }
      ]
    },
    {
      "cell_type": "markdown",
      "metadata": {
        "id": "szpzFXgiVQwN"
      },
      "source": [
        "## Simple Linear Regression\n",
        "\n",
        "Simple linear regression equation:\n",
        "\n",
        "$y = ax + b$\n",
        "<br>\n",
        "$a$: slope\n",
        "<br>\n",
        "$b$: intercept\n",
        "\n",
        "Generate linear-looking data with the equation:\n",
        "\n",
        "$y = 3X + 4 + noise$"
      ]
    },
    {
      "cell_type": "code",
      "metadata": {
        "colab": {
          "base_uri": "https://localhost:8080/"
        },
        "id": "mitJFYeiMQqD",
        "outputId": "5ff12a61-443c-40e6-b642-1d99e1668cae"
      },
      "source": [
        "np.random.rand(100, 1)"
      ],
      "execution_count": 142,
      "outputs": [
        {
          "output_type": "execute_result",
          "data": {
            "text/plain": [
              "array([[0.37454012],\n",
              "       [0.95071431],\n",
              "       [0.73199394],\n",
              "       [0.59865848],\n",
              "       [0.15601864],\n",
              "       [0.15599452],\n",
              "       [0.05808361],\n",
              "       [0.86617615],\n",
              "       [0.60111501],\n",
              "       [0.70807258],\n",
              "       [0.02058449],\n",
              "       [0.96990985],\n",
              "       [0.83244264],\n",
              "       [0.21233911],\n",
              "       [0.18182497],\n",
              "       [0.18340451],\n",
              "       [0.30424224],\n",
              "       [0.52475643],\n",
              "       [0.43194502],\n",
              "       [0.29122914],\n",
              "       [0.61185289],\n",
              "       [0.13949386],\n",
              "       [0.29214465],\n",
              "       [0.36636184],\n",
              "       [0.45606998],\n",
              "       [0.78517596],\n",
              "       [0.19967378],\n",
              "       [0.51423444],\n",
              "       [0.59241457],\n",
              "       [0.04645041],\n",
              "       [0.60754485],\n",
              "       [0.17052412],\n",
              "       [0.06505159],\n",
              "       [0.94888554],\n",
              "       [0.96563203],\n",
              "       [0.80839735],\n",
              "       [0.30461377],\n",
              "       [0.09767211],\n",
              "       [0.68423303],\n",
              "       [0.44015249],\n",
              "       [0.12203823],\n",
              "       [0.49517691],\n",
              "       [0.03438852],\n",
              "       [0.9093204 ],\n",
              "       [0.25877998],\n",
              "       [0.66252228],\n",
              "       [0.31171108],\n",
              "       [0.52006802],\n",
              "       [0.54671028],\n",
              "       [0.18485446],\n",
              "       [0.96958463],\n",
              "       [0.77513282],\n",
              "       [0.93949894],\n",
              "       [0.89482735],\n",
              "       [0.59789998],\n",
              "       [0.92187424],\n",
              "       [0.0884925 ],\n",
              "       [0.19598286],\n",
              "       [0.04522729],\n",
              "       [0.32533033],\n",
              "       [0.38867729],\n",
              "       [0.27134903],\n",
              "       [0.82873751],\n",
              "       [0.35675333],\n",
              "       [0.28093451],\n",
              "       [0.54269608],\n",
              "       [0.14092422],\n",
              "       [0.80219698],\n",
              "       [0.07455064],\n",
              "       [0.98688694],\n",
              "       [0.77224477],\n",
              "       [0.19871568],\n",
              "       [0.00552212],\n",
              "       [0.81546143],\n",
              "       [0.70685734],\n",
              "       [0.72900717],\n",
              "       [0.77127035],\n",
              "       [0.07404465],\n",
              "       [0.35846573],\n",
              "       [0.11586906],\n",
              "       [0.86310343],\n",
              "       [0.62329813],\n",
              "       [0.33089802],\n",
              "       [0.06355835],\n",
              "       [0.31098232],\n",
              "       [0.32518332],\n",
              "       [0.72960618],\n",
              "       [0.63755747],\n",
              "       [0.88721274],\n",
              "       [0.47221493],\n",
              "       [0.11959425],\n",
              "       [0.71324479],\n",
              "       [0.76078505],\n",
              "       [0.5612772 ],\n",
              "       [0.77096718],\n",
              "       [0.4937956 ],\n",
              "       [0.52273283],\n",
              "       [0.42754102],\n",
              "       [0.02541913],\n",
              "       [0.10789143]])"
            ]
          },
          "metadata": {},
          "execution_count": 142
        }
      ]
    },
    {
      "cell_type": "code",
      "metadata": {
        "colab": {
          "base_uri": "https://localhost:8080/",
          "height": 265
        },
        "id": "QyubE1VEVQwN",
        "outputId": "050c9022-9799-4c58-ecaf-e3c9a77f1272"
      },
      "source": [
        "X = 2*np.random.rand(100, 1)\n",
        "y = 4 + 3 * X + np.random.randn(100, 1)\n",
        "plt.scatter(X, y);"
      ],
      "execution_count": 143,
      "outputs": [
        {
          "output_type": "display_data",
          "data": {
            "text/plain": [
              "<Figure size 432x288 with 1 Axes>"
            ],
            "image/png": "[encoded data removed]"
          },
          "metadata": {
            "needs_background": "light"
          }
        }
      ]
    },
    {
      "cell_type": "code",
      "source": [
        "import pandas as pd\n",
        "pd.DataFrame(y)"
      ],
      "metadata": {
        "colab": {
          "base_uri": "https://localhost:8080/",
          "height": 424
        },
        "id": "M5kaENJ4bZY5",
        "outputId": "3c42cc24-993a-4fcb-8c06-4f96d5082db7"
      },
      "execution_count": 144,
      "outputs": [
        {
          "output_type": "execute_result",
          "data": {
            "text/plain": [
              "            0\n",
              "0    3.508550\n",
              "1    8.050716\n",
              "2    6.179208\n",
              "3    6.337073\n",
              "4   11.311173\n",
              "..        ...\n",
              "95   5.441928\n",
              "96  10.121188\n",
              "97   9.787643\n",
              "98   8.061635\n",
              "99   9.597115\n",
              "\n",
              "[100 rows x 1 columns]"
            ],
            "text/html": [
              "\n",
              "  <div id=\"df-0ca5c2f0-88b3-45e4-ab7c-cfdfc228892f\">\n",
              "    <div class=\"colab-df-container\">\n",
              "      <div>\n",
              "<style scoped>\n",
              "    .dataframe tbody tr th:only-of-type {\n",
              "        vertical-align: middle;\n",
              "    }\n",
              "\n",
              "    .dataframe tbody tr th {\n",
              "        vertical-align: top;\n",
              "    }\n",
              "\n",
              "    .dataframe thead th {\n",
              "        text-align: right;\n",
              "    }\n",
              "</style>\n",
              "<table border=\"1\" class=\"dataframe\">\n",
              "  <thead>\n",
              "    <tr style=\"text-align: right;\">\n",
              "      <th></th>\n",
              "      <th>0</th>\n",
              "    </tr>\n",
              "  </thead>\n",
              "  <tbody>\n",
              "    <tr>\n",
              "      <th>0</th>\n",
              "      <td>3.508550</td>\n",
              "    </tr>\n",
              "    <tr>\n",
              "      <th>1</th>\n",
              "      <td>8.050716</td>\n",
              "    </tr>\n",
              "    <tr>\n",
              "      <th>2</th>\n",
              "      <td>6.179208</td>\n",
              "    </tr>\n",
              "    <tr>\n",
              "      <th>3</th>\n",
              "      <td>6.337073</td>\n",
              "    </tr>\n",
              "    <tr>\n",
              "      <th>4</th>\n",
              "      <td>11.311173</td>\n",
              "    </tr>\n",
              "    <tr>\n",
              "      <th>...</th>\n",
              "      <td>...</td>\n",
              "    </tr>\n",
              "    <tr>\n",
              "      <th>95</th>\n",
              "      <td>5.441928</td>\n",
              "    </tr>\n",
              "    <tr>\n",
              "      <th>96</th>\n",
              "      <td>10.121188</td>\n",
              "    </tr>\n",
              "    <tr>\n",
              "      <th>97</th>\n",
              "      <td>9.787643</td>\n",
              "    </tr>\n",
              "    <tr>\n",
              "      <th>98</th>\n",
              "      <td>8.061635</td>\n",
              "    </tr>\n",
              "    <tr>\n",
              "      <th>99</th>\n",
              "      <td>9.597115</td>\n",
              "    </tr>\n",
              "  </tbody>\n",
              "</table>\n",
              "<p>100 rows × 1 columns</p>\n",
              "</div>\n",
              "      <button class=\"colab-df-convert\" onclick=\"convertToInteractive('df-0ca5c2f0-88b3-45e4-ab7c-cfdfc228892f')\"\n",
              "              title=\"Convert this dataframe to an interactive table.\"\n",
              "              style=\"display:none;\">\n",
              "        \n",
              "  <svg xmlns=\"http://www.w3.org/2000/svg\" height=\"24px\"viewBox=\"0 0 24 24\"\n",
              "       width=\"24px\">\n",
              "    <path d=\"M0 0h24v24H0V0z\" fill=\"none\"/>\n",
              "    <path d=\"M18.56 5.44l.94 2.06.94-2.06 2.06-.94-2.06-.94-.94-2.06-.94 2.06-2.06.94zm-11 1L8.5 8.5l.94-2.06 2.06-.94-2.06-.94L8.5 2.5l-.94 2.06-2.06.94zm10 10l.94 2.06.94-2.06 2.06-.94-2.06-.94-.94-2.06-.94 2.06-2.06.94z\"/><path d=\"M17.41 7.96l-1.37-1.37c-.4-.4-.92-.59-1.43-.59-.52 0-1.04.2-1.43.59L10.3 9.45l-7.72 7.72c-.78.78-.78 2.05 0 2.83L4 21.41c.39.39.9.59 1.41.59.51 0 1.02-.2 1.41-.59l7.78-7.78 2.81-2.81c.8-.78.8-2.07 0-2.86zM5.41 20L4 18.59l7.72-7.72 1.47 1.35L5.41 20z\"/>\n",
              "  </svg>\n",
              "      </button>\n",
              "      \n",
              "  <style>\n",
              "    .colab-df-container {\n",
              "      display:flex;\n",
              "      flex-wrap:wrap;\n",
              "      gap: 12px;\n",
              "    }\n",
              "\n",
              "    .colab-df-convert {\n",
              "      background-color: #E8F0FE;\n",
              "      border: none;\n",
              "      border-radius: 50%;\n",
              "      cursor: pointer;\n",
              "      display: none;\n",
              "      fill: #1967D2;\n",
              "      height: 32px;\n",
              "      padding: 0 0 0 0;\n",
              "      width: 32px;\n",
              "    }\n",
              "\n",
              "    .colab-df-convert:hover {\n",
              "      background-color: #E2EBFA;\n",
              "      box-shadow: 0px 1px 2px rgba(60, 64, 67, 0.3), 0px 1px 3px 1px rgba(60, 64, 67, 0.15);\n",
              "      fill: #174EA6;\n",
              "    }\n",
              "\n",
              "    [theme=dark] .colab-df-convert {\n",
              "      background-color: #3B4455;\n",
              "      fill: #D2E3FC;\n",
              "    }\n",
              "\n",
              "    [theme=dark] .colab-df-convert:hover {\n",
              "      background-color: #434B5C;\n",
              "      box-shadow: 0px 1px 3px 1px rgba(0, 0, 0, 0.15);\n",
              "      filter: drop-shadow(0px 1px 2px rgba(0, 0, 0, 0.3));\n",
              "      fill: #FFFFFF;\n",
              "    }\n",
              "  </style>\n",
              "\n",
              "      <script>\n",
              "        const buttonEl =\n",
              "          document.querySelector('#df-0ca5c2f0-88b3-45e4-ab7c-cfdfc228892f button.colab-df-convert');\n",
              "        buttonEl.style.display =\n",
              "          google.colab.kernel.accessAllowed ? 'block' : 'none';\n",
              "\n",
              "        async function convertToInteractive(key) {\n",
              "          const element = document.querySelector('#df-0ca5c2f0-88b3-45e4-ab7c-cfdfc228892f');\n",
              "          const dataTable =\n",
              "            await google.colab.kernel.invokeFunction('convertToInteractive',\n",
              "                                                     [key], {});\n",
              "          if (!dataTable) return;\n",
              "\n",
              "          const docLinkHtml = 'Like what you see? Visit the ' +\n",
              "            '<a target=\"_blank\" href=https://colab.research.google.com/notebooks/data_table.ipynb>data table notebook</a>'\n",
              "            + ' to learn more about interactive tables.';\n",
              "          element.innerHTML = '';\n",
              "          dataTable['output_type'] = 'display_data';\n",
              "          await google.colab.output.renderOutput(dataTable, element);\n",
              "          const docLink = document.createElement('div');\n",
              "          docLink.innerHTML = docLinkHtml;\n",
              "          element.appendChild(docLink);\n",
              "        }\n",
              "      </script>\n",
              "    </div>\n",
              "  </div>\n",
              "  "
            ]
          },
          "metadata": {},
          "execution_count": 144
        }
      ]
    },
    {
      "cell_type": "code",
      "metadata": {
        "colab": {
          "base_uri": "https://localhost:8080/"
        },
        "id": "x6XGt_iAVQwO",
        "outputId": "541b2b9e-167e-41d4-e47c-3238aef26820"
      },
      "source": [
        "from sklearn.linear_model import LinearRegression\n",
        "\n",
        "linear_reg = LinearRegression(fit_intercept=True)\n",
        "linear_reg.fit(X, y)"
      ],
      "execution_count": 145,
      "outputs": [
        {
          "output_type": "execute_result",
          "data": {
            "text/plain": [
              "LinearRegression()"
            ]
          },
          "metadata": {},
          "execution_count": 145
        }
      ]
    },
    {
      "cell_type": "markdown",
      "metadata": {
        "id": "Hnm9YgjbVQwO"
      },
      "source": [
        "Plot the model's predictions:"
      ]
    },
    {
      "cell_type": "code",
      "metadata": {
        "id": "9NtrLfGGVQwP"
      },
      "source": [
        "#X_fit[]"
      ],
      "execution_count": 146,
      "outputs": []
    },
    {
      "cell_type": "code",
      "metadata": {
        "colab": {
          "base_uri": "https://localhost:8080/",
          "height": 287
        },
        "id": "1ZTT31igVQwP",
        "outputId": "1afa91bc-088c-4d12-a1fe-2ca4a611a3f6"
      },
      "source": [
        "# construct best fit line\n",
        "X_fit = np.linspace(0, 2, 100)\n",
        "y_fit = linear_reg.predict(X_fit[:, np.newaxis])\n",
        "\n",
        "plt.scatter(X, y)\n",
        "plt.plot(X_fit, y_fit, \"r-\", linewidth=2, label=\"Predictions\")\n",
        "plt.xlabel(\"$X$\", fontsize=18)\n",
        "plt.ylabel(\"$y$\", rotation=0, fontsize=18)\n",
        "plt.legend(loc=\"upper left\", fontsize=14);"
      ],
      "execution_count": 147,
      "outputs": [
        {
          "output_type": "display_data",
          "data": {
            "text/plain": [
              "<Figure size 432x288 with 1 Axes>"
            ],
            "image/png": "[encoded data removed]"
          },
          "metadata": {
            "needs_background": "light"
          }
        }
      ]
    },
    {
      "cell_type": "markdown",
      "metadata": {
        "id": "kIfOsEcWVQwP"
      },
      "source": [
        "Predictions are a good fit."
      ]
    },
    {
      "cell_type": "markdown",
      "metadata": {
        "id": "z2VYUeGrVQwQ"
      },
      "source": [
        "Generate new data to make predictions with the model:"
      ]
    },
    {
      "cell_type": "code",
      "metadata": {
        "colab": {
          "base_uri": "https://localhost:8080/"
        },
        "id": "FuEd0Wp0VQwQ",
        "outputId": "31ba7b5c-3333-4c6f-bc89-9ff1283e2241"
      },
      "source": [
        "X_new = np.array([[0], [2]])\n",
        "X_new"
      ],
      "execution_count": 148,
      "outputs": [
        {
          "output_type": "execute_result",
          "data": {
            "text/plain": [
              "array([[0],\n",
              "       [2]])"
            ]
          },
          "metadata": {},
          "execution_count": 148
        }
      ]
    },
    {
      "cell_type": "code",
      "metadata": {
        "colab": {
          "base_uri": "https://localhost:8080/"
        },
        "id": "lLCnLm7_VQwQ",
        "outputId": "bef19cb0-aa38-4398-ec0a-be8419e5ec04"
      },
      "source": [
        "X_new.shape"
      ],
      "execution_count": 149,
      "outputs": [
        {
          "output_type": "execute_result",
          "data": {
            "text/plain": [
              "(2, 1)"
            ]
          },
          "metadata": {},
          "execution_count": 149
        }
      ]
    },
    {
      "cell_type": "code",
      "metadata": {
        "colab": {
          "base_uri": "https://localhost:8080/"
        },
        "id": "zJIzUfZsVQwQ",
        "outputId": "a6d68678-40ad-481f-b362-95af9ed2305c"
      },
      "source": [
        "y_new = linear_reg.predict(X_new)\n",
        "y_new"
      ],
      "execution_count": 150,
      "outputs": [
        {
          "output_type": "execute_result",
          "data": {
            "text/plain": [
              "array([[ 3.74406122],\n",
              "       [10.47517611]])"
            ]
          },
          "metadata": {},
          "execution_count": 150
        }
      ]
    },
    {
      "cell_type": "code",
      "metadata": {
        "colab": {
          "base_uri": "https://localhost:8080/"
        },
        "id": "ICiEnkbdVQwQ",
        "outputId": "455b3e55-7ffa-4623-88b8-4d1b7e90b164"
      },
      "source": [
        " linear_reg.coef_, linear_reg.intercept_"
      ],
      "execution_count": 151,
      "outputs": [
        {
          "output_type": "execute_result",
          "data": {
            "text/plain": [
              "(array([[3.36555744]]), array([3.74406122]))"
            ]
          },
          "metadata": {},
          "execution_count": 151
        }
      ]
    },
    {
      "cell_type": "markdown",
      "metadata": {
        "id": "iBXzOecgVQwR"
      },
      "source": [
        "The model estimates:\n",
        "\n",
        "$\\hat{y} = 3.36X + 3.74$"
      ]
    },
    {
      "cell_type": "code",
      "metadata": {
        "id": "ZNvipq0wQYfj"
      },
      "source": [
        "#|VENTAS|GANANCIAS|\n",
        "#COEF*VENTAS+B\n",
        "#|VENTAS|COMPRAS|GANANCIAS|\n",
        "#COEF1*X1+COEF2*X2+B=Y"
      ],
      "execution_count": 152,
      "outputs": []
    },
    {
      "cell_type": "markdown",
      "metadata": {
        "id": "_Rv-RJSnVQwR"
      },
      "source": [
        "## Polynomial Regression\n",
        "\n",
        "If data is more complex than a straight line, you can use a linear model ti fit non-linear data adding powers of each feature as new features and then train a linear model on the extended set of features. "
      ]
    },
    {
      "cell_type": "markdown",
      "metadata": {
        "id": "dPrpAVsZVQwR"
      },
      "source": [
        "$$y = a_0 + a_1x_1 + a_2x_2 + a_3x_3 + ...$$ to $$y = a_0 + a_1x + a_2x^2 + a_3x^3+ ...$$ "
      ]
    },
    {
      "cell_type": "markdown",
      "metadata": {
        "id": "9kjMWzEfVQwR"
      },
      "source": [
        "This is still a linear model, the linearity refers to the fact that the coefficients never multiply or divide each other."
      ]
    },
    {
      "cell_type": "markdown",
      "metadata": {
        "id": "2M3fp_CSVQwR"
      },
      "source": [
        "To generate polynomial data we use the function:\n",
        "\n",
        "$y = 0.50X^2 + X + 2 + noise$"
      ]
    },
    {
      "cell_type": "code",
      "metadata": {
        "id": "sSrueMnPVQwR"
      },
      "source": [
        "# generate non-linear data e.g. quadratic equation\n",
        "m = 100\n",
        "X = 6 * np.random.rand(m, 1) - 3\n",
        "y = 0.5 * X**2 + X + 2 + np.random.randn(m, 1)"
      ],
      "execution_count": 153,
      "outputs": []
    },
    {
      "cell_type": "code",
      "metadata": {
        "colab": {
          "base_uri": "https://localhost:8080/",
          "height": 54
        },
        "id": "GNQQoXkMVQwS",
        "outputId": "a3422024-4926-4594-cf2e-64e7ea8eaa7f"
      },
      "source": [
        "plt.plot(X, y, \"b.\")\n",
        "plt.xlabel(\"$x_1$\", fontsize=18)\n",
        "plt.ylabel(\"$y$\", rotation=0, fontsize=18)\n",
        "plt.axis([-3, 3, 0, 10]);"
      ],
      "execution_count": 154,
      "outputs": [
        {
          "output_type": "display_data",
          "data": {
            "text/plain": [
              "<Figure size 432x288 with 1 Axes>"
            ],
            "image/png": "[encoded data removed]"
          },
          "metadata": {
            "needs_background": "light"
          }
        }
      ]
    },
    {
      "cell_type": "code",
      "source": [
        "import pandas as pd\n",
        "pd.DataFrame(y)"
      ],
      "metadata": {
        "id": "YtaK_dsidNcP",
        "outputId": "0c88f71b-cba8-4d5a-c0b0-16979decdb5f",
        "colab": {
          "base_uri": "https://localhost:8080/",
          "height": 505
        }
      },
      "execution_count": 155,
      "outputs": [
        {
          "output_type": "execute_result",
          "data": {
            "text/plain": [
              "           0\n",
              "0   8.529240\n",
              "1   3.768929\n",
              "2   3.354423\n",
              "3   2.747935\n",
              "4   0.808458\n",
              "..       ...\n",
              "95  5.346771\n",
              "96  6.338229\n",
              "97  3.488785\n",
              "98  1.372002\n",
              "99 -0.072150\n",
              "\n",
              "[100 rows x 1 columns]"
            ],
            "text/html": [
              "\n",
              "  <div id=\"df-5e4cfc21-a5cc-43b7-b6ae-0077699d3d8e\">\n",
              "    <div class=\"colab-df-container\">\n",
              "      <div>\n",
              "<style scoped>\n",
              "    .dataframe tbody tr th:only-of-type {\n",
              "        vertical-align: middle;\n",
              "    }\n",
              "\n",
              "    .dataframe tbody tr th {\n",
              "        vertical-align: top;\n",
              "    }\n",
              "\n",
              "    .dataframe thead th {\n",
              "        text-align: right;\n",
              "    }\n",
              "</style>\n",
              "<table border=\"1\" class=\"dataframe\">\n",
              "  <thead>\n",
              "    <tr style=\"text-align: right;\">\n",
              "      <th></th>\n",
              "      <th>0</th>\n",
              "    </tr>\n",
              "  </thead>\n",
              "  <tbody>\n",
              "    <tr>\n",
              "      <th>0</th>\n",
              "      <td>8.529240</td>\n",
              "    </tr>\n",
              "    <tr>\n",
              "      <th>1</th>\n",
              "      <td>3.768929</td>\n",
              "    </tr>\n",
              "    <tr>\n",
              "      <th>2</th>\n",
              "      <td>3.354423</td>\n",
              "    </tr>\n",
              "    <tr>\n",
              "      <th>3</th>\n",
              "      <td>2.747935</td>\n",
              "    </tr>\n",
              "    <tr>\n",
              "      <th>4</th>\n",
              "      <td>0.808458</td>\n",
              "    </tr>\n",
              "    <tr>\n",
              "      <th>...</th>\n",
              "      <td>...</td>\n",
              "    </tr>\n",
              "    <tr>\n",
              "      <th>95</th>\n",
              "      <td>5.346771</td>\n",
              "    </tr>\n",
              "    <tr>\n",
              "      <th>96</th>\n",
              "      <td>6.338229</td>\n",
              "    </tr>\n",
              "    <tr>\n",
              "      <th>97</th>\n",
              "      <td>3.488785</td>\n",
              "    </tr>\n",
              "    <tr>\n",
              "      <th>98</th>\n",
              "      <td>1.372002</td>\n",
              "    </tr>\n",
              "    <tr>\n",
              "      <th>99</th>\n",
              "      <td>-0.072150</td>\n",
              "    </tr>\n",
              "  </tbody>\n",
              "</table>\n",
              "<p>100 rows × 1 columns</p>\n",
              "</div>\n",
              "      <button class=\"colab-df-convert\" onclick=\"convertToInteractive('df-5e4cfc21-a5cc-43b7-b6ae-0077699d3d8e')\"\n",
              "              title=\"Convert this dataframe to an interactive table.\"\n",
              "              style=\"display:none;\">\n",
              "        \n",
              "  <svg xmlns=\"http://www.w3.org/2000/svg\" height=\"24px\"viewBox=\"0 0 24 24\"\n",
              "       width=\"24px\">\n",
              "    <path d=\"M0 0h24v24H0V0z\" fill=\"none\"/>\n",
              "    <path d=\"M18.56 5.44l.94 2.06.94-2.06 2.06-.94-2.06-.94-.94-2.06-.94 2.06-2.06.94zm-11 1L8.5 8.5l.94-2.06 2.06-.94-2.06-.94L8.5 2.5l-.94 2.06-2.06.94zm10 10l.94 2.06.94-2.06 2.06-.94-2.06-.94-.94-2.06-.94 2.06-2.06.94z\"/><path d=\"M17.41 7.96l-1.37-1.37c-.4-.4-.92-.59-1.43-.59-.52 0-1.04.2-1.43.59L10.3 9.45l-7.72 7.72c-.78.78-.78 2.05 0 2.83L4 21.41c.39.39.9.59 1.41.59.51 0 1.02-.2 1.41-.59l7.78-7.78 2.81-2.81c.8-.78.8-2.07 0-2.86zM5.41 20L4 18.59l7.72-7.72 1.47 1.35L5.41 20z\"/>\n",
              "  </svg>\n",
              "      </button>\n",
              "      \n",
              "  <style>\n",
              "    .colab-df-container {\n",
              "      display:flex;\n",
              "      flex-wrap:wrap;\n",
              "      gap: 12px;\n",
              "    }\n",
              "\n",
              "    .colab-df-convert {\n",
              "      background-color: #E8F0FE;\n",
              "      border: none;\n",
              "      border-radius: 50%;\n",
              "      cursor: pointer;\n",
              "      display: none;\n",
              "      fill: #1967D2;\n",
              "      height: 32px;\n",
              "      padding: 0 0 0 0;\n",
              "      width: 32px;\n",
              "    }\n",
              "\n",
              "    .colab-df-convert:hover {\n",
              "      background-color: #E2EBFA;\n",
              "      box-shadow: 0px 1px 2px rgba(60, 64, 67, 0.3), 0px 1px 3px 1px rgba(60, 64, 67, 0.15);\n",
              "      fill: #174EA6;\n",
              "    }\n",
              "\n",
              "    [theme=dark] .colab-df-convert {\n",
              "      background-color: #3B4455;\n",
              "      fill: #D2E3FC;\n",
              "    }\n",
              "\n",
              "    [theme=dark] .colab-df-convert:hover {\n",
              "      background-color: #434B5C;\n",
              "      box-shadow: 0px 1px 3px 1px rgba(0, 0, 0, 0.15);\n",
              "      filter: drop-shadow(0px 1px 2px rgba(0, 0, 0, 0.3));\n",
              "      fill: #FFFFFF;\n",
              "    }\n",
              "  </style>\n",
              "\n",
              "      <script>\n",
              "        const buttonEl =\n",
              "          document.querySelector('#df-5e4cfc21-a5cc-43b7-b6ae-0077699d3d8e button.colab-df-convert');\n",
              "        buttonEl.style.display =\n",
              "          google.colab.kernel.accessAllowed ? 'block' : 'none';\n",
              "\n",
              "        async function convertToInteractive(key) {\n",
              "          const element = document.querySelector('#df-5e4cfc21-a5cc-43b7-b6ae-0077699d3d8e');\n",
              "          const dataTable =\n",
              "            await google.colab.kernel.invokeFunction('convertToInteractive',\n",
              "                                                     [key], {});\n",
              "          if (!dataTable) return;\n",
              "\n",
              "          const docLinkHtml = 'Like what you see? Visit the ' +\n",
              "            '<a target=\"_blank\" href=https://colab.research.google.com/notebooks/data_table.ipynb>data table notebook</a>'\n",
              "            + ' to learn more about interactive tables.';\n",
              "          element.innerHTML = '';\n",
              "          dataTable['output_type'] = 'display_data';\n",
              "          await google.colab.output.renderOutput(dataTable, element);\n",
              "          const docLink = document.createElement('div');\n",
              "          docLink.innerHTML = docLinkHtml;\n",
              "          element.appendChild(docLink);\n",
              "        }\n",
              "      </script>\n",
              "    </div>\n",
              "  </div>\n",
              "  "
            ]
          },
          "metadata": {},
          "execution_count": 155
        }
      ]
    },
    {
      "cell_type": "markdown",
      "metadata": {
        "id": "vrZTRaLNVQwS"
      },
      "source": [
        "Now we can use `PolynomialFeatues` to transform training data adding the square of each feature as new features."
      ]
    },
    {
      "cell_type": "code",
      "metadata": {
        "id": "BXo0Hm56VQwS"
      },
      "source": [
        "from sklearn.preprocessing import PolynomialFeatures\n",
        "\n",
        "poly_features = PolynomialFeatures(degree=2, include_bias=False)\n",
        "X_poly = poly_features.fit_transform(X)"
      ],
      "execution_count": 156,
      "outputs": []
    },
    {
      "cell_type": "code",
      "metadata": {
        "colab": {
          "base_uri": "https://localhost:8080/"
        },
        "id": "1FqY9-I4VQwS",
        "outputId": "8cf6a8f5-4d21-4e29-a24e-a46a65d72505"
      },
      "source": [
        "X_poly"
      ],
      "execution_count": 157,
      "outputs": [
        {
          "output_type": "execute_result",
          "data": {
            "text/plain": [
              "array([[ 2.72919168e+00,  7.44848725e+00],\n",
              "       [ 1.42738150e+00,  2.03741795e+00],\n",
              "       [ 3.26124315e-01,  1.06357069e-01],\n",
              "       [ 6.70324477e-01,  4.49334905e-01],\n",
              "       [-4.82399625e-01,  2.32709399e-01],\n",
              "       [-1.51361406e+00,  2.29102753e+00],\n",
              "       [-8.64163928e-01,  7.46779295e-01],\n",
              "       [ 1.54707666e+00,  2.39344620e+00],\n",
              "       [-2.91363907e+00,  8.48929262e+00],\n",
              "       [-2.30356416e+00,  5.30640783e+00],\n",
              "       [-2.72398415e+00,  7.42008964e+00],\n",
              "       [-2.75562719e+00,  7.59348119e+00],\n",
              "       [ 2.13276350e+00,  4.54868016e+00],\n",
              "       [ 1.22194716e+00,  1.49315485e+00],\n",
              "       [-1.54957025e-01,  2.40116797e-02],\n",
              "       [-2.41299504e+00,  5.82254504e+00],\n",
              "       [-5.03047493e-02,  2.53056780e-03],\n",
              "       [-1.59169375e-01,  2.53348900e-02],\n",
              "       [-1.96078878e+00,  3.84469264e+00],\n",
              "       [-3.96890105e-01,  1.57521755e-01],\n",
              "       [-6.08971594e-01,  3.70846402e-01],\n",
              "       [ 6.95100588e-01,  4.83164828e-01],\n",
              "       [ 8.10561905e-01,  6.57010602e-01],\n",
              "       [-2.72817594e+00,  7.44294397e+00],\n",
              "       [-7.52324312e-01,  5.65991871e-01],\n",
              "       [ 7.55159494e-01,  5.70265862e-01],\n",
              "       [ 1.88175515e-02,  3.54100244e-04],\n",
              "       [ 2.13893905e+00,  4.57506025e+00],\n",
              "       [ 9.52161790e-01,  9.06612074e-01],\n",
              "       [-2.02239344e+00,  4.09007522e+00],\n",
              "       [-2.57658752e+00,  6.63880323e+00],\n",
              "       [ 8.54515669e-01,  7.30197029e-01],\n",
              "       [-2.84093214e+00,  8.07089541e+00],\n",
              "       [ 5.14653488e-01,  2.64868212e-01],\n",
              "       [ 2.64138145e+00,  6.97689596e+00],\n",
              "       [ 4.52845067e-01,  2.05068655e-01],\n",
              "       [-6.70980443e-01,  4.50214755e-01],\n",
              "       [ 8.59729311e-01,  7.39134488e-01],\n",
              "       [-2.50482657e-01,  6.27415615e-02],\n",
              "       [ 2.73700736e-01,  7.49120928e-02],\n",
              "       [ 2.64878885e+00,  7.01608239e+00],\n",
              "       [-6.83384173e-01,  4.67013928e-01],\n",
              "       [ 2.76714338e+00,  7.65708250e+00],\n",
              "       [ 2.43210385e+00,  5.91512915e+00],\n",
              "       [-1.82525319e+00,  3.33154921e+00],\n",
              "       [-2.58383219e+00,  6.67618881e+00],\n",
              "       [-2.39533199e+00,  5.73761535e+00],\n",
              "       [-2.89066905e+00,  8.35596753e+00],\n",
              "       [-2.43334224e+00,  5.92115443e+00],\n",
              "       [ 1.09804064e+00,  1.20569325e+00],\n",
              "       [-2.57286811e+00,  6.61965031e+00],\n",
              "       [-1.08614622e+00,  1.17971361e+00],\n",
              "       [ 2.06925187e+00,  4.28180328e+00],\n",
              "       [-2.86036839e+00,  8.18170730e+00],\n",
              "       [ 1.88681090e+00,  3.56005536e+00],\n",
              "       [-1.30887135e+00,  1.71314421e+00],\n",
              "       [-2.29101103e+00,  5.24873156e+00],\n",
              "       [ 1.18042299e+00,  1.39339844e+00],\n",
              "       [ 7.73657081e-01,  5.98545278e-01],\n",
              "       [ 2.26483208e+00,  5.12946436e+00],\n",
              "       [ 1.41042626e+00,  1.98930224e+00],\n",
              "       [ 1.82088558e+00,  3.31562430e+00],\n",
              "       [-1.30779256e+00,  1.71032139e+00],\n",
              "       [-1.93536274e+00,  3.74562893e+00],\n",
              "       [ 1.50368851e+00,  2.26107913e+00],\n",
              "       [ 1.84100844e+00,  3.38931206e+00],\n",
              "       [ 2.94303085e+00,  8.66143060e+00],\n",
              "       [-5.24293939e-01,  2.74884134e-01],\n",
              "       [-7.67891485e-01,  5.89657333e-01],\n",
              "       [ 1.65847776e+00,  2.75054850e+00],\n",
              "       [-9.55178758e-01,  9.12366461e-01],\n",
              "       [ 2.58454395e+00,  6.67986745e+00],\n",
              "       [ 2.15047651e+00,  4.62454922e+00],\n",
              "       [-4.26035836e-01,  1.81506533e-01],\n",
              "       [ 1.50522641e+00,  2.26570654e+00],\n",
              "       [ 1.52725724e+00,  2.33251469e+00],\n",
              "       [-2.38125679e+00,  5.67038389e+00],\n",
              "       [ 2.41531744e+00,  5.83375834e+00],\n",
              "       [ 3.15142347e-02,  9.93146988e-04],\n",
              "       [ 1.95874480e+00,  3.83668118e+00],\n",
              "       [-1.07970239e+00,  1.16575726e+00],\n",
              "       [ 2.37313937e+00,  5.63179047e+00],\n",
              "       [-6.64789928e-01,  4.41945648e-01],\n",
              "       [-2.93497409e+00,  8.61407292e+00],\n",
              "       [ 2.43229186e+00,  5.91604369e+00],\n",
              "       [-2.45227994e+00,  6.01367690e+00],\n",
              "       [-1.08411817e+00,  1.17531222e+00],\n",
              "       [ 2.70037180e+00,  7.29200787e+00],\n",
              "       [ 2.70364288e+00,  7.30968483e+00],\n",
              "       [ 4.40627329e-01,  1.94152443e-01],\n",
              "       [ 7.91023273e-01,  6.25717818e-01],\n",
              "       [-3.09326868e-01,  9.56831113e-02],\n",
              "       [-1.24073537e+00,  1.53942426e+00],\n",
              "       [-1.02801273e+00,  1.05681017e+00],\n",
              "       [ 1.03511074e+00,  1.07145424e+00],\n",
              "       [ 1.51424718e+00,  2.29294451e+00],\n",
              "       [ 1.74947426e+00,  3.06066019e+00],\n",
              "       [ 1.73770886e+00,  3.01963207e+00],\n",
              "       [-2.45276338e+00,  6.01604821e+00],\n",
              "       [-3.34781718e-02,  1.12078799e-03]])"
            ]
          },
          "metadata": {},
          "execution_count": 157
        }
      ]
    },
    {
      "cell_type": "markdown",
      "metadata": {
        "id": "GrFMRU_eVQwS"
      },
      "source": [
        "`X_poly` now contains the original feature of X plus the square of the feature:"
      ]
    },
    {
      "cell_type": "code",
      "metadata": {
        "colab": {
          "base_uri": "https://localhost:8080/"
        },
        "id": "M8FH1dY2UwgN",
        "outputId": "23496a7d-c53c-414f-d8b6-65c81386349a"
      },
      "source": [
        "print(X[0])\n",
        "print(X[0]*X[0])\n"
      ],
      "execution_count": 158,
      "outputs": [
        {
          "output_type": "stream",
          "name": "stdout",
          "text": [
            "[2.72919168]\n",
            "[7.44848725]\n"
          ]
        }
      ]
    },
    {
      "cell_type": "code",
      "metadata": {
        "colab": {
          "base_uri": "https://localhost:8080/"
        },
        "id": "PSflPniWVQwT",
        "outputId": "132b58c2-0d4f-4cff-db28-9199e23a5a07"
      },
      "source": [
        "X_poly[0]"
      ],
      "execution_count": 159,
      "outputs": [
        {
          "output_type": "execute_result",
          "data": {
            "text/plain": [
              "array([2.72919168, 7.44848725])"
            ]
          },
          "metadata": {},
          "execution_count": 159
        }
      ]
    },
    {
      "cell_type": "markdown",
      "metadata": {
        "id": "HaXjXg7FVQwT"
      },
      "source": [
        "Fit the model to this extended training data:"
      ]
    },
    {
      "cell_type": "code",
      "metadata": {
        "colab": {
          "base_uri": "https://localhost:8080/"
        },
        "id": "c0Qu93dgVQwT",
        "outputId": "5addf8fb-b955-4ff9-c0f2-f31bd1adf8c0"
      },
      "source": [
        "lin_reg = LinearRegression(fit_intercept=True)\n",
        "lin_reg.fit(X_poly, y)\n",
        "lin_reg.coef_, lin_reg.intercept_"
      ],
      "execution_count": 160,
      "outputs": [
        {
          "output_type": "execute_result",
          "data": {
            "text/plain": [
              "(array([[1.04271531, 0.50866711]]), array([2.01873554]))"
            ]
          },
          "metadata": {},
          "execution_count": 160
        }
      ]
    },
    {
      "cell_type": "markdown",
      "metadata": {
        "id": "rKOSwvnmVQwT"
      },
      "source": [
        "The model estimates:\n",
        "\n",
        "$\\hat{y} =  0.89X +0.48X^2 + 2.09$"
      ]
    },
    {
      "cell_type": "markdown",
      "metadata": {
        "id": "_EtZEKz5VQwT"
      },
      "source": [
        "Plot the data and the predictions:"
      ]
    },
    {
      "cell_type": "code",
      "metadata": {
        "colab": {
          "base_uri": "https://localhost:8080/",
          "height": 54
        },
        "id": "6Q8dHRgdVQwT",
        "outputId": "f0092471-09bd-4da0-bd46-d04d93015ba5"
      },
      "source": [
        "X_new=np.linspace(-3, 3, 100).reshape(100, 1)\n",
        "X_new_poly = poly_features.transform(X_new)\n",
        "y_new = lin_reg.predict(X_new_poly)\n",
        "plt.plot(X, y, \"b.\")\n",
        "plt.plot(X_new, y_new, \"r-\", linewidth=2, label=\"Predictions\")\n",
        "plt.xlabel(\"$x_1$\", fontsize=18)\n",
        "plt.ylabel(\"$y$\", rotation=0, fontsize=18)\n",
        "plt.legend(loc=\"upper left\", fontsize=14)\n",
        "plt.axis([-3, 3, 0, 10]);"
      ],
      "execution_count": 161,
      "outputs": [
        {
          "output_type": "display_data",
          "data": {
            "text/plain": [
              "<Figure size 432x288 with 1 Axes>"
            ],
            "image/png": "[encoded data removed]"
          },
          "metadata": {
            "needs_background": "light"
          }
        }
      ]
    },
    {
      "cell_type": "code",
      "source": [],
      "metadata": {
        "id": "vyq0o8f2pcqa"
      },
      "execution_count": 161,
      "outputs": []
    },
    {
      "cell_type": "markdown",
      "source": [
        "## R square\n",
        "\n",
        "R² es una medida estadística de qué tan cerca están los datos de la línea de regresión ajustada. También se conoce como el coeficiente de determinación o el coeficiente de determinación múltiple para la regresión múltiple. Para decirlo en un lenguaje más simple, R² es una medida de ajuste para los modelos de regresión lineal.\n",
        "\n",
        "\n",
        "\n",
        "R² no indica si un modelo de regresión se ajusta adecuadamente a sus datos. Un buen modelo puede tener un valor R² bajo. Por otro lado, un modelo sesgado puede tener un valor alto de R².\n",
        "\n",
        " SSres + SSreg = SStot, R² = Explained variation / Total Variation\n",
        " \n",
        " ![image.png](https://i.stack.imgur.com/xb1VY.png)\n",
        " \n",
        "![image.png](https://3.bp.blogspot.com/-MFqQLwbGwd4/WMO7tz39beI/AAAAAAAAF9I/Bjpfohgv_5E4lu7HzHJBQtXsBM--byqPwCLcB/s1600/rsquared.png)\n"
      ],
      "metadata": {
        "id": "TIFwAtW1pc6h"
      }
    },
    {
      "cell_type": "markdown",
      "metadata": {
        "id": "nTKFj4x9LMXm"
      },
      "source": [
        "# Ejercicio 1\n",
        "\n",
        "Utiliza la base de datos de \n",
        "https://www.kaggle.com/vinicius150987/manufacturing-cost\n",
        "\n",
        "Suponga que trabaja como consultor de una empresa de nueva creación que busca desarrollar un modelo para estimar el costo de los bienes vendidos a medida que varían el volumen de producción (número de unidades producidas). La startup recopiló datos y le pidió que desarrollara un modelo para predecir su costo frente a la cantidad de unidades vendidas."
      ]
    },
    {
      "cell_type": "code",
      "metadata": {
        "colab": {
          "base_uri": "https://localhost:8080/",
          "height": 363
        },
        "id": "oTnErQOkL3oa",
        "outputId": "3a775510-865b-4d41-8de8-7acdbbe98a25"
      },
      "source": [
        "import pandas as pd\n",
        "df = pd.read_csv('https://raw.githubusercontent.com/marypazrf/bdd/main/EconomiesOfScale.csv')\n",
        "df.sample(10)"
      ],
      "execution_count": 162,
      "outputs": [
        {
          "output_type": "execute_result",
          "data": {
            "text/plain": [
              "     Number of Units  Manufacturing Cost\n",
              "968         7.065653           27.804027\n",
              "212         3.372115           41.127212\n",
              "416         4.194513           43.832711\n",
              "677         5.068888           41.225741\n",
              "550         4.604122           37.569764\n",
              "764         5.389522           31.191501\n",
              "386         4.104190           42.988730\n",
              "339         3.942214           46.291435\n",
              "82          2.665856           48.578425\n",
              "487         4.399514           37.567914"
            ],
            "text/html": [
              "\n",
              "  <div id=\"df-849fb6cf-be08-4705-91a0-db5c9ecea473\">\n",
              "    <div class=\"colab-df-container\">\n",
              "      <div>\n",
              "<style scoped>\n",
              "    .dataframe tbody tr th:only-of-type {\n",
              "        vertical-align: middle;\n",
              "    }\n",
              "\n",
              "    .dataframe tbody tr th {\n",
              "        vertical-align: top;\n",
              "    }\n",
              "\n",
              "    .dataframe thead th {\n",
              "        text-align: right;\n",
              "    }\n",
              "</style>\n",
              "<table border=\"1\" class=\"dataframe\">\n",
              "  <thead>\n",
              "    <tr style=\"text-align: right;\">\n",
              "      <th></th>\n",
              "      <th>Number of Units</th>\n",
              "      <th>Manufacturing Cost</th>\n",
              "    </tr>\n",
              "  </thead>\n",
              "  <tbody>\n",
              "    <tr>\n",
              "      <th>968</th>\n",
              "      <td>7.065653</td>\n",
              "      <td>27.804027</td>\n",
              "    </tr>\n",
              "    <tr>\n",
              "      <th>212</th>\n",
              "      <td>3.372115</td>\n",
              "      <td>41.127212</td>\n",
              "    </tr>\n",
              "    <tr>\n",
              "      <th>416</th>\n",
              "      <td>4.194513</td>\n",
              "      <td>43.832711</td>\n",
              "    </tr>\n",
              "    <tr>\n",
              "      <th>677</th>\n",
              "      <td>5.068888</td>\n",
              "      <td>41.225741</td>\n",
              "    </tr>\n",
              "    <tr>\n",
              "      <th>550</th>\n",
              "      <td>4.604122</td>\n",
              "      <td>37.569764</td>\n",
              "    </tr>\n",
              "    <tr>\n",
              "      <th>764</th>\n",
              "      <td>5.389522</td>\n",
              "      <td>31.191501</td>\n",
              "    </tr>\n",
              "    <tr>\n",
              "      <th>386</th>\n",
              "      <td>4.104190</td>\n",
              "      <td>42.988730</td>\n",
              "    </tr>\n",
              "    <tr>\n",
              "      <th>339</th>\n",
              "      <td>3.942214</td>\n",
              "      <td>46.291435</td>\n",
              "    </tr>\n",
              "    <tr>\n",
              "      <th>82</th>\n",
              "      <td>2.665856</td>\n",
              "      <td>48.578425</td>\n",
              "    </tr>\n",
              "    <tr>\n",
              "      <th>487</th>\n",
              "      <td>4.399514</td>\n",
              "      <td>37.567914</td>\n",
              "    </tr>\n",
              "  </tbody>\n",
              "</table>\n",
              "</div>\n",
              "      <button class=\"colab-df-convert\" onclick=\"convertToInteractive('df-849fb6cf-be08-4705-91a0-db5c9ecea473')\"\n",
              "              title=\"Convert this dataframe to an interactive table.\"\n",
              "              style=\"display:none;\">\n",
              "        \n",
              "  <svg xmlns=\"http://www.w3.org/2000/svg\" height=\"24px\"viewBox=\"0 0 24 24\"\n",
              "       width=\"24px\">\n",
              "    <path d=\"M0 0h24v24H0V0z\" fill=\"none\"/>\n",
              "    <path d=\"M18.56 5.44l.94 2.06.94-2.06 2.06-.94-2.06-.94-.94-2.06-.94 2.06-2.06.94zm-11 1L8.5 8.5l.94-2.06 2.06-.94-2.06-.94L8.5 2.5l-.94 2.06-2.06.94zm10 10l.94 2.06.94-2.06 2.06-.94-2.06-.94-.94-2.06-.94 2.06-2.06.94z\"/><path d=\"M17.41 7.96l-1.37-1.37c-.4-.4-.92-.59-1.43-.59-.52 0-1.04.2-1.43.59L10.3 9.45l-7.72 7.72c-.78.78-.78 2.05 0 2.83L4 21.41c.39.39.9.59 1.41.59.51 0 1.02-.2 1.41-.59l7.78-7.78 2.81-2.81c.8-.78.8-2.07 0-2.86zM5.41 20L4 18.59l7.72-7.72 1.47 1.35L5.41 20z\"/>\n",
              "  </svg>\n",
              "      </button>\n",
              "      \n",
              "  <style>\n",
              "    .colab-df-container {\n",
              "      display:flex;\n",
              "      flex-wrap:wrap;\n",
              "      gap: 12px;\n",
              "    }\n",
              "\n",
              "    .colab-df-convert {\n",
              "      background-color: #E8F0FE;\n",
              "      border: none;\n",
              "      border-radius: 50%;\n",
              "      cursor: pointer;\n",
              "      display: none;\n",
              "      fill: #1967D2;\n",
              "      height: 32px;\n",
              "      padding: 0 0 0 0;\n",
              "      width: 32px;\n",
              "    }\n",
              "\n",
              "    .colab-df-convert:hover {\n",
              "      background-color: #E2EBFA;\n",
              "      box-shadow: 0px 1px 2px rgba(60, 64, 67, 0.3), 0px 1px 3px 1px rgba(60, 64, 67, 0.15);\n",
              "      fill: #174EA6;\n",
              "    }\n",
              "\n",
              "    [theme=dark] .colab-df-convert {\n",
              "      background-color: #3B4455;\n",
              "      fill: #D2E3FC;\n",
              "    }\n",
              "\n",
              "    [theme=dark] .colab-df-convert:hover {\n",
              "      background-color: #434B5C;\n",
              "      box-shadow: 0px 1px 3px 1px rgba(0, 0, 0, 0.15);\n",
              "      filter: drop-shadow(0px 1px 2px rgba(0, 0, 0, 0.3));\n",
              "      fill: #FFFFFF;\n",
              "    }\n",
              "  </style>\n",
              "\n",
              "      <script>\n",
              "        const buttonEl =\n",
              "          document.querySelector('#df-849fb6cf-be08-4705-91a0-db5c9ecea473 button.colab-df-convert');\n",
              "        buttonEl.style.display =\n",
              "          google.colab.kernel.accessAllowed ? 'block' : 'none';\n",
              "\n",
              "        async function convertToInteractive(key) {\n",
              "          const element = document.querySelector('#df-849fb6cf-be08-4705-91a0-db5c9ecea473');\n",
              "          const dataTable =\n",
              "            await google.colab.kernel.invokeFunction('convertToInteractive',\n",
              "                                                     [key], {});\n",
              "          if (!dataTable) return;\n",
              "\n",
              "          const docLinkHtml = 'Like what you see? Visit the ' +\n",
              "            '<a target=\"_blank\" href=https://colab.research.google.com/notebooks/data_table.ipynb>data table notebook</a>'\n",
              "            + ' to learn more about interactive tables.';\n",
              "          element.innerHTML = '';\n",
              "          dataTable['output_type'] = 'display_data';\n",
              "          await google.colab.output.renderOutput(dataTable, element);\n",
              "          const docLink = document.createElement('div');\n",
              "          docLink.innerHTML = docLinkHtml;\n",
              "          element.appendChild(docLink);\n",
              "        }\n",
              "      </script>\n",
              "    </div>\n",
              "  </div>\n",
              "  "
            ]
          },
          "metadata": {},
          "execution_count": 162
        }
      ]
    },
    {
      "cell_type": "code",
      "metadata": {
        "id": "14kGO5nkMGlV"
      },
      "source": [
        "X = df[['Number of Units']]\n",
        "y = df['Manufacturing Cost']"
      ],
      "execution_count": 163,
      "outputs": []
    },
    {
      "cell_type": "code",
      "source": [
        "type(X)"
      ],
      "metadata": {
        "id": "-GuehQqUJJ13",
        "outputId": "7d944b72-ccef-4be4-f46b-2fa7e9aca0e1",
        "colab": {
          "base_uri": "https://localhost:8080/"
        }
      },
      "execution_count": 164,
      "outputs": [
        {
          "output_type": "execute_result",
          "data": {
            "text/plain": [
              "pandas.core.frame.DataFrame"
            ]
          },
          "metadata": {},
          "execution_count": 164
        }
      ]
    },
    {
      "cell_type": "code",
      "source": [
        "y.describe()"
      ],
      "metadata": {
        "colab": {
          "base_uri": "https://localhost:8080/"
        },
        "id": "bwR6SSqQDfC2",
        "outputId": "943feb24-7bf1-4593-b611-085008615f1b"
      },
      "execution_count": 165,
      "outputs": [
        {
          "output_type": "execute_result",
          "data": {
            "text/plain": [
              "count    1000.000000\n",
              "mean       40.052999\n",
              "std        10.595322\n",
              "min        20.000000\n",
              "25%        32.912036\n",
              "50%        38.345781\n",
              "75%        44.531822\n",
              "max       100.000000\n",
              "Name: Manufacturing Cost, dtype: float64"
            ]
          },
          "metadata": {},
          "execution_count": 165
        }
      ]
    },
    {
      "cell_type": "code",
      "metadata": {
        "colab": {
          "base_uri": "https://localhost:8080/",
          "height": 283
        },
        "id": "idoEjfEhMoxk",
        "outputId": "87c0f360-c4d8-4437-8ff5-48dbdf3bd4ad"
      },
      "source": [
        "plt.plot(X,y,'b.')"
      ],
      "execution_count": 166,
      "outputs": [
        {
          "output_type": "execute_result",
          "data": {
            "text/plain": [
              "[<matplotlib.lines.Line2D at 0x7fed1d6fbfd0>]"
            ]
          },
          "metadata": {},
          "execution_count": 166
        },
        {
          "output_type": "display_data",
          "data": {
            "text/plain": [
              "<Figure size 432x288 with 1 Axes>"
            ],
            "image/png": "[encoded data removed]"
          },
          "metadata": {
            "needs_background": "light"
          }
        }
      ]
    },
    {
      "cell_type": "code",
      "source": [
        "plt.scatter(X, y);"
      ],
      "metadata": {
        "colab": {
          "base_uri": "https://localhost:8080/",
          "height": 265
        },
        "id": "aePN5dEWrSVt",
        "outputId": "3c0082ab-a175-4424-d720-7eaa8fc84ae1"
      },
      "execution_count": 167,
      "outputs": [
        {
          "output_type": "display_data",
          "data": {
            "text/plain": [
              "<Figure size 432x288 with 1 Axes>"
            ],
            "image/png": "[encoded data removed]"
          },
          "metadata": {
            "needs_background": "light"
          }
        }
      ]
    },
    {
      "cell_type": "code",
      "source": [
        "#importar librerias\n",
        "from sklearn.model_selection import train_test_split\n",
        "from sklearn.linear_model import LinearRegression\n",
        "from sklearn.preprocessing import PolynomialFeatures\n",
        "from sklearn.linear_model import Ridge\n",
        "from sklearn.linear_model import Lasso\n",
        "from sklearn import metrics\n",
        "from sklearn.metrics import r2_score\n",
        "\n"
      ],
      "metadata": {
        "id": "oSjA0SiDr3Hd"
      },
      "execution_count": 168,
      "outputs": []
    },
    {
      "cell_type": "markdown",
      "source": [
        "Divide los datos del costo de manufactura. Utiliza la función train_test_split (viene el ejemplo al final del notebook)."
      ],
      "metadata": {
        "id": "TPPb68mlr7Uu"
      }
    },
    {
      "cell_type": "code",
      "source": [
        "X_train, X_test, y_train, y_test = train_test_split(X, y, test_size = 0.1, random_state = 101)\n",
        "\n",
        "print(f'Numero total de registros en la bdd: {len(X)}')\n",
        "print(\"*****\"*10)\n",
        "print(f'Numero total de registros en el training set: {len(X_train)}')\n",
        "print(f'Tamaño de X_train: {X_train.shape}')\n",
        "print(\"*****\"*10)\n",
        "print(f'Mumero total de registros en el test dataset: {len(X_test)}')\n",
        "print(f'Tamaño del X_test: {X_test.shape}')"
      ],
      "metadata": {
        "colab": {
          "base_uri": "https://localhost:8080/"
        },
        "id": "134GJfKvsPCG",
        "outputId": "e56957fa-4515-4b6f-a7d7-8dce02883137"
      },
      "execution_count": 169,
      "outputs": [
        {
          "output_type": "stream",
          "name": "stdout",
          "text": [
            "Numero total de registros en la bdd: 1000\n",
            "**************************************************\n",
            "Numero total de registros en el training set: 900\n",
            "Tamaño de X_train: (900, 1)\n",
            "**************************************************\n",
            "Mumero total de registros en el test dataset: 100\n",
            "Tamaño del X_test: (100, 1)\n"
          ]
        }
      ]
    },
    {
      "cell_type": "markdown",
      "source": [
        "Regresión Lineal.\n",
        "\n",
        "Realiza la regresión lineal: modelo generado (ecuación), su visualización, sus errores y r cuadrada.\n"
      ],
      "metadata": {
        "id": "2nQDMhKHwJb5"
      }
    },
    {
      "cell_type": "code",
      "source": [
        "#lineal\n",
        "linear_reg = LinearRegression(fit_intercept=True)\n",
        "linear_reg.fit(X_train, y_train)\n",
        "linear_reg.coef_, linear_reg.intercept_"
      ],
      "metadata": {
        "id": "kMmOy97puOLE",
        "colab": {
          "base_uri": "https://localhost:8080/"
        },
        "outputId": "60013408-b6f8-4d4e-f390-e5a553002cc7"
      },
      "execution_count": 170,
      "outputs": [
        {
          "output_type": "execute_result",
          "data": {
            "text/plain": [
              "(array([-5.98882699]), 66.83650741226988)"
            ]
          },
          "metadata": {},
          "execution_count": 170
        }
      ]
    },
    {
      "cell_type": "markdown",
      "source": [
        "ECUACIÓN:\n",
        "\n",
        "$\\hat{y} =  -5.98X + 66.83$\n",
        "\n"
      ],
      "metadata": {
        "id": "UC1Mp2gw0Qy3"
      }
    },
    {
      "cell_type": "markdown",
      "source": [
        "Graficar las predicciones del modelo"
      ],
      "metadata": {
        "id": "Q5buxd2CxZuw"
      }
    },
    {
      "cell_type": "code",
      "source": [
        "y_pred = linear_reg.predict(X_train)\n",
        "\n",
        "plt.scatter(X_train, y_train)\n",
        "plt.plot(X_train, y_pred, \"r-\", linewidth=2, label=\"Predictions\")\n",
        "plt.xlabel(\"$X$\", fontsize=18)\n",
        "plt.ylabel(\"$y$\", rotation=0, fontsize=18)\n",
        "plt.legend(loc=\"upper left\", fontsize=14);"
      ],
      "metadata": {
        "colab": {
          "base_uri": "https://localhost:8080/",
          "height": 287
        },
        "id": "mRpv1wgcw-1m",
        "outputId": "cf8e5655-8742-443e-c960-ac73fc1c7245"
      },
      "execution_count": 171,
      "outputs": [
        {
          "output_type": "display_data",
          "data": {
            "text/plain": [
              "<Figure size 432x288 with 1 Axes>"
            ],
            "image/png": "[encoded data removed]"
          },
          "metadata": {
            "needs_background": "light"
          }
        }
      ]
    },
    {
      "cell_type": "markdown",
      "source": [
        "Se observa que el modelo se trata de ajustar a los datos pero no del todo correctamente ya que se evidencia una leve curva, la cual podria ser ajustada con una regresión polinomial"
      ],
      "metadata": {
        "id": "KC1xOdR_01rI"
      }
    },
    {
      "cell_type": "code",
      "source": [
        "print('Error medio Absoluto (MAE):', metrics.mean_absolute_error(y_train, y_pred))\n",
        "print('Root Mean Squared Error:', np.sqrt(metrics.mean_squared_error(y_train, y_pred)))\n",
        "print('r2_score',r2_score(y_train, y_pred))"
      ],
      "metadata": {
        "id": "6ASo6LaYdSDH",
        "outputId": "b74e6c82-4cce-4922-bd4e-f93eeef91457",
        "colab": {
          "base_uri": "https://localhost:8080/"
        }
      },
      "execution_count": 172,
      "outputs": [
        {
          "output_type": "stream",
          "name": "stdout",
          "text": [
            "Error medio Absoluto (MAE): 4.905332101451236\n",
            "Root Mean Squared Error: 6.844866083710475\n",
            "r2_score 0.5746524649404298\n"
          ]
        }
      ]
    },
    {
      "cell_type": "markdown",
      "source": [
        "Regresión Polinomial.\n",
        "\n",
        "Realiza la  regresión polinomial completa, tu modelo generado (ecuación), su visualización, sus errores y r cuadrada.\n"
      ],
      "metadata": {
        "id": "gsOTL9o43d4A"
      }
    },
    {
      "cell_type": "code",
      "source": [
        "#polinomial \n",
        "poly_features = PolynomialFeatures(degree=4, include_bias=False)\n",
        "X_poly = poly_features.fit_transform(X_train)"
      ],
      "metadata": {
        "id": "LWvfEDGKuoLJ"
      },
      "execution_count": 173,
      "outputs": []
    },
    {
      "cell_type": "code",
      "source": [
        "X_poly #la variable x_poly contiene la variable x y el cuadrado de la misma generado con la funcion PolynomialFeatures"
      ],
      "metadata": {
        "colab": {
          "base_uri": "https://localhost:8080/"
        },
        "id": "XOZR1V7L4Dmo",
        "outputId": "a3600426-8025-4dce-eeab-851af4bf71e0"
      },
      "execution_count": 174,
      "outputs": [
        {
          "output_type": "execute_result",
          "data": {
            "text/plain": [
              "array([[7.97424764e+00, 6.35886254e+01, 5.07071446e+02, 4.04351328e+03],\n",
              "       [1.89573077e+00, 3.59379517e+00, 6.81286809e+00, 1.29153637e+01],\n",
              "       [3.57650140e+00, 1.27913623e+01, 4.57483252e+01, 1.63618949e+02],\n",
              "       ...,\n",
              "       [3.94046305e+00, 1.55272490e+01, 6.11845511e+01, 2.41095463e+02],\n",
              "       [4.52448429e+00, 2.04709581e+01, 9.26205283e+01, 4.19060126e+02],\n",
              "       [5.86814353e+00, 3.44351085e+01, 2.02070159e+02, 1.18577670e+03]])"
            ]
          },
          "metadata": {},
          "execution_count": 174
        }
      ]
    },
    {
      "cell_type": "code",
      "source": [
        "lin_reg = LinearRegression(fit_intercept=True)\n",
        "lin_reg.fit(X_poly, y_train)\n",
        "lin_reg.coef_.round(1), lin_reg.intercept_"
      ],
      "metadata": {
        "colab": {
          "base_uri": "https://localhost:8080/"
        },
        "id": "01s4WO_D4d9w",
        "outputId": "251cddb5-bdff-4fa3-edd4-eb5363dc6f10"
      },
      "execution_count": 175,
      "outputs": [
        {
          "output_type": "execute_result",
          "data": {
            "text/plain": [
              "(array([-54.8,  12.4,  -1.3,   0.1]), 132.0400139263852)"
            ]
          },
          "metadata": {},
          "execution_count": 175
        }
      ]
    },
    {
      "cell_type": "markdown",
      "source": [
        "ECUACIÓN:\n",
        "\n",
        "$\\hat{y} =  -54.8X +12.4X^2 -1.3X^3 + 0.1X^4 + 132.04$"
      ],
      "metadata": {
        "id": "Rb7RgYf04qqS"
      }
    },
    {
      "cell_type": "markdown",
      "source": [
        "Graficar las predicciones del modelo\n",
        "\n"
      ],
      "metadata": {
        "id": "830xRF2g438f"
      }
    },
    {
      "cell_type": "code",
      "source": [
        "y_pred = lin_reg.predict(pd.DataFrame(X_poly,index=X_train.index).sort_index())\n",
        "plt.plot(X_train, y_train, \"b.\")\n",
        "plt.plot(X_train.sort_index(), y_pred, \"r-\", linewidth=2, label=\"Predictions\")\n",
        "plt.xlabel(\"$x_1$\", fontsize=18)\n",
        "plt.ylabel(\"$y$\", rotation=0, fontsize=18)\n",
        "plt.legend(loc=\"upper left\", fontsize=14)\n"
      ],
      "metadata": {
        "id": "iWfEsdVEMbCE",
        "outputId": "1dd297b2-2db7-42c8-ab29-4534aec56d9b",
        "colab": {
          "base_uri": "https://localhost:8080/",
          "height": 305
        }
      },
      "execution_count": 176,
      "outputs": [
        {
          "output_type": "execute_result",
          "data": {
            "text/plain": [
              "<matplotlib.legend.Legend at 0x7fed1d5b4b50>"
            ]
          },
          "metadata": {},
          "execution_count": 176
        },
        {
          "output_type": "display_data",
          "data": {
            "text/plain": [
              "<Figure size 432x288 with 1 Axes>"
            ],
            "image/png": "[encoded data removed]"
          },
          "metadata": {
            "needs_background": "light"
          }
        }
      ]
    },
    {
      "cell_type": "markdown",
      "source": [
        "Se Observa que al aplicar regresión polinomial, el modelo se trata de ajustar mas a la curva que tienen los datos, se decide aplicar el grado 4 que es el que mas se centra a los datos"
      ],
      "metadata": {
        "id": "hAqib-wDWZ7m"
      }
    },
    {
      "cell_type": "code",
      "source": [
        "print('Error medio Absoluto (MAE):', metrics.mean_absolute_error(y_train, y_pred))\n",
        "print('Root Mean Squared Error:', np.sqrt(metrics.mean_squared_error(y_train, y_pred)))\n",
        "print('r2_score',r2_score(y_train, y_pred))"
      ],
      "metadata": {
        "id": "O3zw1Y2udTUg",
        "outputId": "b624967b-629c-4040-e98c-b25e7bd6fa66",
        "colab": {
          "base_uri": "https://localhost:8080/"
        }
      },
      "execution_count": 177,
      "outputs": [
        {
          "output_type": "stream",
          "name": "stdout",
          "text": [
            "Error medio Absoluto (MAE): 9.648806558574709\n",
            "Root Mean Squared Error: 13.4286687815174\n",
            "r2_score -0.6371178089919152\n"
          ]
        }
      ]
    },
    {
      "cell_type": "markdown",
      "source": [
        "- Regresión con Ridge"
      ],
      "metadata": {
        "id": "SfB6eozsWyin"
      }
    },
    {
      "cell_type": "code",
      "source": [
        "ridge_reg = Ridge(alpha=0.1)\n",
        "ridge_reg.fit(X_poly, y_train)\n",
        "ridge_reg.coef_.round(2), ridge_reg.intercept_\n"
      ],
      "metadata": {
        "id": "PalG5hVhWrro",
        "outputId": "5113bef6-a985-4ba2-b5f4-01825096bf3f",
        "colab": {
          "base_uri": "https://localhost:8080/"
        }
      },
      "execution_count": 178,
      "outputs": [
        {
          "output_type": "execute_result",
          "data": {
            "text/plain": [
              "(array([-4.976e+01,  1.078e+01, -1.100e+00,  4.000e-02]), 126.7875881612872)"
            ]
          },
          "metadata": {},
          "execution_count": 178
        }
      ]
    },
    {
      "cell_type": "markdown",
      "source": [
        "ECUACIÓN:\n",
        "\n",
        "$\\hat{y} =  -49.8X +10.8X^2 -1.1X^3 + 0.04X^4 + 126.78$"
      ],
      "metadata": {
        "id": "zl5KeUBSZ9sc"
      }
    },
    {
      "cell_type": "markdown",
      "source": [
        "Graficar las predicciones del modelo"
      ],
      "metadata": {
        "id": "hhzmHzp4aenk"
      }
    },
    {
      "cell_type": "code",
      "source": [
        "y_pred = ridge_reg.predict(pd.DataFrame(X_poly,index=X_train.index).sort_index())\n",
        "plt.plot(X_train, y_train, \"b.\")\n",
        "plt.plot(X_train.sort_index(), y_pred, \"r-\", linewidth=2, label=\"Predictions\")\n",
        "plt.xlabel(\"$x_1$\", fontsize=18)\n",
        "plt.ylabel(\"$y$\", rotation=0, fontsize=18)\n",
        "plt.legend(loc=\"upper left\", fontsize=14)"
      ],
      "metadata": {
        "id": "mISSY3COajbE",
        "outputId": "5d34ab7d-16f3-4a9c-c719-8b917f0cb603",
        "colab": {
          "base_uri": "https://localhost:8080/",
          "height": 305
        }
      },
      "execution_count": 179,
      "outputs": [
        {
          "output_type": "execute_result",
          "data": {
            "text/plain": [
              "<matplotlib.legend.Legend at 0x7fed1d7181d0>"
            ]
          },
          "metadata": {},
          "execution_count": 179
        },
        {
          "output_type": "display_data",
          "data": {
            "text/plain": [
              "<Figure size 432x288 with 1 Axes>"
            ],
            "image/png": "[encoded data removed]"
          },
          "metadata": {
            "needs_background": "light"
          }
        }
      ]
    },
    {
      "cell_type": "markdown",
      "source": [
        "Se Observa que al aplicar regresión con ridge , se reduce un poco la magnitud de los valores de los coeficientes y el modelo se ajusta mas al centro de los datos"
      ],
      "metadata": {
        "id": "0oKFwkRWbAkX"
      }
    },
    {
      "cell_type": "code",
      "source": [
        "print('Error medio Absoluto (MAE):', metrics.mean_absolute_error(y_train, y_pred))\n",
        "print('Root Mean Squared Error:', np.sqrt(metrics.mean_squared_error(y_train, y_pred)))\n",
        "print('r2_score',r2_score(y_train, y_pred))"
      ],
      "metadata": {
        "id": "SxBWvwGBdUSc",
        "outputId": "d2f36cf8-5415-45a8-95bd-caca8400820d",
        "colab": {
          "base_uri": "https://localhost:8080/"
        }
      },
      "execution_count": 180,
      "outputs": [
        {
          "output_type": "stream",
          "name": "stdout",
          "text": [
            "Error medio Absoluto (MAE): 9.65794616125059\n",
            "Root Mean Squared Error: 13.412582714649686\n",
            "r2_score -0.6331979843411766\n"
          ]
        }
      ]
    },
    {
      "cell_type": "markdown",
      "source": [
        "* Regresión con Lasso"
      ],
      "metadata": {
        "id": "c1amsCg3basR"
      }
    },
    {
      "cell_type": "code",
      "source": [
        "lasso_reg = Lasso(alpha=0.1)\n",
        "lasso_reg.fit(X_poly, y_train)\n",
        "lasso_reg.coef_.round(2), ridge_reg.intercept_"
      ],
      "metadata": {
        "id": "pD4oVd7cbd2C",
        "outputId": "6b18c03d-badd-4bb5-9e6a-83a4fd475fa5",
        "colab": {
          "base_uri": "https://localhost:8080/"
        }
      },
      "execution_count": 181,
      "outputs": [
        {
          "output_type": "stream",
          "name": "stderr",
          "text": [
            "/usr/local/lib/python3.7/dist-packages/sklearn/linear_model/_coordinate_descent.py:648: ConvergenceWarning: Objective did not converge. You might want to increase the number of iterations, check the scale of the features or consider increasing regularisation. Duality gap: 1.387e+04, tolerance: 9.914e+00\n",
            "  coef_, l1_reg, l2_reg, X, y, max_iter, tol, rng, random, positive\n"
          ]
        },
        {
          "output_type": "execute_result",
          "data": {
            "text/plain": [
              "(array([-16.03,   0.27,   0.24,  -0.02]), 126.7875881612872)"
            ]
          },
          "metadata": {},
          "execution_count": 181
        }
      ]
    },
    {
      "cell_type": "markdown",
      "source": [
        "ECUACIÓN:\n",
        "\n",
        "$\\hat{y} =  -16.03X +0.27X^2 +0.25X^3 - 0.02X^4 + 126.78$"
      ],
      "metadata": {
        "id": "B-IEI-IgcoLH"
      }
    },
    {
      "cell_type": "code",
      "source": [
        "y_pred = lasso_reg.predict(pd.DataFrame(X_poly,index=X_train.index).sort_index())\n",
        "plt.plot(X_train, y_train, \"b.\")\n",
        "plt.plot(X_train.sort_index(), y_pred, \"r-\", linewidth=2, label=\"Predictions\")\n",
        "plt.xlabel(\"$x_1$\", fontsize=18)\n",
        "plt.ylabel(\"$y$\", rotation=0, fontsize=18)\n",
        "plt.legend(loc=\"upper left\", fontsize=14)"
      ],
      "metadata": {
        "id": "JTTFnDQZcK4M",
        "outputId": "f07bdcd6-5533-474d-8cca-a4994b8b26bf",
        "colab": {
          "base_uri": "https://localhost:8080/",
          "height": 305
        }
      },
      "execution_count": 182,
      "outputs": [
        {
          "output_type": "execute_result",
          "data": {
            "text/plain": [
              "<matplotlib.legend.Legend at 0x7fed1d767a90>"
            ]
          },
          "metadata": {},
          "execution_count": 182
        },
        {
          "output_type": "display_data",
          "data": {
            "text/plain": [
              "<Figure size 432x288 with 1 Axes>"
            ],
            "image/png": "[encoded data removed]"
          },
          "metadata": {
            "needs_background": "light"
          }
        }
      ]
    },
    {
      "cell_type": "markdown",
      "source": [
        "Se Observa que al aplicar regresión con lasso , se reduce un poco la magnitud de los valores de los coeficientes y el modelo se ajusta mas al centro de los datos"
      ],
      "metadata": {
        "id": "Zzx_nbiqchj_"
      }
    },
    {
      "cell_type": "code",
      "metadata": {
        "id": "-VDz4zLK9Q0K",
        "outputId": "d05660a1-680c-4094-da0e-449f9c211960",
        "colab": {
          "base_uri": "https://localhost:8080/"
        }
      },
      "source": [
        "print('Error medio Absoluto (MAE):', metrics.mean_absolute_error(y_train, y_pred))\n",
        "print('Root Mean Squared Error:', np.sqrt(metrics.mean_squared_error(y_train, y_pred)))\n",
        "print('r2_score',r2_score(y_train, y_pred))"
      ],
      "execution_count": 183,
      "outputs": [
        {
          "output_type": "stream",
          "name": "stdout",
          "text": [
            "Error medio Absoluto (MAE): 9.71860208323046\n",
            "Root Mean Squared Error: 13.291761102809645\n",
            "r2_score -0.6039065563300934\n"
          ]
        }
      ]
    },
    {
      "cell_type": "markdown",
      "metadata": {
        "id": "CfqcmLmxLoe9"
      },
      "source": [
        "#Ejercicio 2\n",
        "Realiza la regresión polinomial de los siguientes datos:"
      ]
    },
    {
      "cell_type": "code",
      "source": [
        "df = pd.read_csv('https://raw.githubusercontent.com/marypazrf/bdd/main/kc_house_data.csv')\n",
        "df.sample(10)"
      ],
      "metadata": {
        "id": "57bn0j38qGrg",
        "outputId": "adda740a-0d4d-4625-aef5-727fa230781c",
        "colab": {
          "base_uri": "https://localhost:8080/",
          "height": 456
        }
      },
      "execution_count": 184,
      "outputs": [
        {
          "output_type": "execute_result",
          "data": {
            "text/plain": [
              "               id             date      price  bedrooms  bathrooms  \\\n",
              "5954   7852020250  20140602T000000   725995.0         4       2.50   \n",
              "8610   6392002020  20150324T000000   559000.0         3       1.75   \n",
              "7650    626049058  20150504T000000   275000.0         5       2.50   \n",
              "5683   2202500255  20150305T000000   335000.0         3       2.00   \n",
              "20773  7304301231  20140617T000000   345000.0         3       2.50   \n",
              "6959    723000114  20140505T000000  1395000.0         5       3.50   \n",
              "10784  4104900340  20150204T000000   710000.0         4       2.50   \n",
              "21529  2487200490  20140623T000000   670000.0         3       2.50   \n",
              "12319  2386000070  20141029T000000   795127.0         4       3.25   \n",
              "19948   293070090  20140711T000000   859990.0         4       2.75   \n",
              "\n",
              "       sqft_living  sqft_lot  floors  waterfront  view  ...  grade  \\\n",
              "5954          3190      7869     2.0           0     2  ...      9   \n",
              "8610          1700      6500     1.0           0     0  ...      8   \n",
              "7650          2570     17234     1.0           0     0  ...      7   \n",
              "5683          1210      9926     1.0           0     0  ...      7   \n",
              "20773         1680      2229     2.0           0     0  ...      7   \n",
              "6959          4010      8510     2.0           0     1  ...      9   \n",
              "10784         3220     18618     2.0           0     1  ...     10   \n",
              "21529         3310      5300     2.0           0     2  ...      8   \n",
              "12319         4360     91158     1.0           0     0  ...     10   \n",
              "19948         3520      5500     2.0           0     0  ...      9   \n",
              "\n",
              "       sqft_above  sqft_basement  yr_built  yr_renovated  zipcode      lat  \\\n",
              "5954         3190              0      2001             0    98065  47.5317   \n",
              "8610         1700              0      1967             0    98115  47.6837   \n",
              "7650         1300           1270      1959             0    98133  47.7753   \n",
              "5683         1210              0      1954          2015    98006  47.5731   \n",
              "20773        1680              0      2007             0    98155  47.7484   \n",
              "6959         2850           1160      1971             0    98105  47.6578   \n",
              "10784        3220              0      1991             0    98056  47.5326   \n",
              "21529        2440            870      2008             0    98136  47.5178   \n",
              "12319        3360           1000      1993             0    98053  47.6398   \n",
              "19948        3520              0      2014             0    98074  47.6181   \n",
              "\n",
              "          long  sqft_living15  sqft_lot15  \n",
              "5954  -121.866           2630        6739  \n",
              "8610  -122.284           1880        6000  \n",
              "7650  -122.355           1760        7969  \n",
              "5683  -122.135           1690        9737  \n",
              "20773 -122.322           1230        9300  \n",
              "6959  -122.286           2610        6128  \n",
              "10784 -122.181           2650       11896  \n",
              "21529 -122.389           2140        7500  \n",
              "12319 -121.985           3540       90940  \n",
              "19948 -122.056           3340        5500  \n",
              "\n",
              "[10 rows x 21 columns]"
            ],
            "text/html": [
              "\n",
              "  <div id=\"df-ade0e6d8-969a-46e5-8ffd-b57acb61c89e\">\n",
              "    <div class=\"colab-df-container\">\n",
              "      <div>\n",
              "<style scoped>\n",
              "    .dataframe tbody tr th:only-of-type {\n",
              "        vertical-align: middle;\n",
              "    }\n",
              "\n",
              "    .dataframe tbody tr th {\n",
              "        vertical-align: top;\n",
              "    }\n",
              "\n",
              "    .dataframe thead th {\n",
              "        text-align: right;\n",
              "    }\n",
              "</style>\n",
              "<table border=\"1\" class=\"dataframe\">\n",
              "  <thead>\n",
              "    <tr style=\"text-align: right;\">\n",
              "      <th></th>\n",
              "      <th>id</th>\n",
              "      <th>date</th>\n",
              "      <th>price</th>\n",
              "      <th>bedrooms</th>\n",
              "      <th>bathrooms</th>\n",
              "      <th>sqft_living</th>\n",
              "      <th>sqft_lot</th>\n",
              "      <th>floors</th>\n",
              "      <th>waterfront</th>\n",
              "      <th>view</th>\n",
              "      <th>...</th>\n",
              "      <th>grade</th>\n",
              "      <th>sqft_above</th>\n",
              "      <th>sqft_basement</th>\n",
              "      <th>yr_built</th>\n",
              "      <th>yr_renovated</th>\n",
              "      <th>zipcode</th>\n",
              "      <th>lat</th>\n",
              "      <th>long</th>\n",
              "      <th>sqft_living15</th>\n",
              "      <th>sqft_lot15</th>\n",
              "    </tr>\n",
              "  </thead>\n",
              "  <tbody>\n",
              "    <tr>\n",
              "      <th>5954</th>\n",
              "      <td>7852020250</td>\n",
              "      <td>20140602T000000</td>\n",
              "      <td>725995.0</td>\n",
              "      <td>4</td>\n",
              "      <td>2.50</td>\n",
              "      <td>3190</td>\n",
              "      <td>7869</td>\n",
              "      <td>2.0</td>\n",
              "      <td>0</td>\n",
              "      <td>2</td>\n",
              "      <td>...</td>\n",
              "      <td>9</td>\n",
              "      <td>3190</td>\n",
              "      <td>0</td>\n",
              "      <td>2001</td>\n",
              "      <td>0</td>\n",
              "      <td>98065</td>\n",
              "      <td>47.5317</td>\n",
              "      <td>-121.866</td>\n",
              "      <td>2630</td>\n",
              "      <td>6739</td>\n",
              "    </tr>\n",
              "    <tr>\n",
              "      <th>8610</th>\n",
              "      <td>6392002020</td>\n",
              "      <td>20150324T000000</td>\n",
              "      <td>559000.0</td>\n",
              "      <td>3</td>\n",
              "      <td>1.75</td>\n",
              "      <td>1700</td>\n",
              "      <td>6500</td>\n",
              "      <td>1.0</td>\n",
              "      <td>0</td>\n",
              "      <td>0</td>\n",
              "      <td>...</td>\n",
              "      <td>8</td>\n",
              "      <td>1700</td>\n",
              "      <td>0</td>\n",
              "      <td>1967</td>\n",
              "      <td>0</td>\n",
              "      <td>98115</td>\n",
              "      <td>47.6837</td>\n",
              "      <td>-122.284</td>\n",
              "      <td>1880</td>\n",
              "      <td>6000</td>\n",
              "    </tr>\n",
              "    <tr>\n",
              "      <th>7650</th>\n",
              "      <td>626049058</td>\n",
              "      <td>20150504T000000</td>\n",
              "      <td>275000.0</td>\n",
              "      <td>5</td>\n",
              "      <td>2.50</td>\n",
              "      <td>2570</td>\n",
              "      <td>17234</td>\n",
              "      <td>1.0</td>\n",
              "      <td>0</td>\n",
              "      <td>0</td>\n",
              "      <td>...</td>\n",
              "      <td>7</td>\n",
              "      <td>1300</td>\n",
              "      <td>1270</td>\n",
              "      <td>1959</td>\n",
              "      <td>0</td>\n",
              "      <td>98133</td>\n",
              "      <td>47.7753</td>\n",
              "      <td>-122.355</td>\n",
              "      <td>1760</td>\n",
              "      <td>7969</td>\n",
              "    </tr>\n",
              "    <tr>\n",
              "      <th>5683</th>\n",
              "      <td>2202500255</td>\n",
              "      <td>20150305T000000</td>\n",
              "      <td>335000.0</td>\n",
              "      <td>3</td>\n",
              "      <td>2.00</td>\n",
              "      <td>1210</td>\n",
              "      <td>9926</td>\n",
              "      <td>1.0</td>\n",
              "      <td>0</td>\n",
              "      <td>0</td>\n",
              "      <td>...</td>\n",
              "      <td>7</td>\n",
              "      <td>1210</td>\n",
              "      <td>0</td>\n",
              "      <td>1954</td>\n",
              "      <td>2015</td>\n",
              "      <td>98006</td>\n",
              "      <td>47.5731</td>\n",
              "      <td>-122.135</td>\n",
              "      <td>1690</td>\n",
              "      <td>9737</td>\n",
              "    </tr>\n",
              "    <tr>\n",
              "      <th>20773</th>\n",
              "      <td>7304301231</td>\n",
              "      <td>20140617T000000</td>\n",
              "      <td>345000.0</td>\n",
              "      <td>3</td>\n",
              "      <td>2.50</td>\n",
              "      <td>1680</td>\n",
              "      <td>2229</td>\n",
              "      <td>2.0</td>\n",
              "      <td>0</td>\n",
              "      <td>0</td>\n",
              "      <td>...</td>\n",
              "      <td>7</td>\n",
              "      <td>1680</td>\n",
              "      <td>0</td>\n",
              "      <td>2007</td>\n",
              "      <td>0</td>\n",
              "      <td>98155</td>\n",
              "      <td>47.7484</td>\n",
              "      <td>-122.322</td>\n",
              "      <td>1230</td>\n",
              "      <td>9300</td>\n",
              "    </tr>\n",
              "    <tr>\n",
              "      <th>6959</th>\n",
              "      <td>723000114</td>\n",
              "      <td>20140505T000000</td>\n",
              "      <td>1395000.0</td>\n",
              "      <td>5</td>\n",
              "      <td>3.50</td>\n",
              "      <td>4010</td>\n",
              "      <td>8510</td>\n",
              "      <td>2.0</td>\n",
              "      <td>0</td>\n",
              "      <td>1</td>\n",
              "      <td>...</td>\n",
              "      <td>9</td>\n",
              "      <td>2850</td>\n",
              "      <td>1160</td>\n",
              "      <td>1971</td>\n",
              "      <td>0</td>\n",
              "      <td>98105</td>\n",
              "      <td>47.6578</td>\n",
              "      <td>-122.286</td>\n",
              "      <td>2610</td>\n",
              "      <td>6128</td>\n",
              "    </tr>\n",
              "    <tr>\n",
              "      <th>10784</th>\n",
              "      <td>4104900340</td>\n",
              "      <td>20150204T000000</td>\n",
              "      <td>710000.0</td>\n",
              "      <td>4</td>\n",
              "      <td>2.50</td>\n",
              "      <td>3220</td>\n",
              "      <td>18618</td>\n",
              "      <td>2.0</td>\n",
              "      <td>0</td>\n",
              "      <td>1</td>\n",
              "      <td>...</td>\n",
              "      <td>10</td>\n",
              "      <td>3220</td>\n",
              "      <td>0</td>\n",
              "      <td>1991</td>\n",
              "      <td>0</td>\n",
              "      <td>98056</td>\n",
              "      <td>47.5326</td>\n",
              "      <td>-122.181</td>\n",
              "      <td>2650</td>\n",
              "      <td>11896</td>\n",
              "    </tr>\n",
              "    <tr>\n",
              "      <th>21529</th>\n",
              "      <td>2487200490</td>\n",
              "      <td>20140623T000000</td>\n",
              "      <td>670000.0</td>\n",
              "      <td>3</td>\n",
              "      <td>2.50</td>\n",
              "      <td>3310</td>\n",
              "      <td>5300</td>\n",
              "      <td>2.0</td>\n",
              "      <td>0</td>\n",
              "      <td>2</td>\n",
              "      <td>...</td>\n",
              "      <td>8</td>\n",
              "      <td>2440</td>\n",
              "      <td>870</td>\n",
              "      <td>2008</td>\n",
              "      <td>0</td>\n",
              "      <td>98136</td>\n",
              "      <td>47.5178</td>\n",
              "      <td>-122.389</td>\n",
              "      <td>2140</td>\n",
              "      <td>7500</td>\n",
              "    </tr>\n",
              "    <tr>\n",
              "      <th>12319</th>\n",
              "      <td>2386000070</td>\n",
              "      <td>20141029T000000</td>\n",
              "      <td>795127.0</td>\n",
              "      <td>4</td>\n",
              "      <td>3.25</td>\n",
              "      <td>4360</td>\n",
              "      <td>91158</td>\n",
              "      <td>1.0</td>\n",
              "      <td>0</td>\n",
              "      <td>0</td>\n",
              "      <td>...</td>\n",
              "      <td>10</td>\n",
              "      <td>3360</td>\n",
              "      <td>1000</td>\n",
              "      <td>1993</td>\n",
              "      <td>0</td>\n",
              "      <td>98053</td>\n",
              "      <td>47.6398</td>\n",
              "      <td>-121.985</td>\n",
              "      <td>3540</td>\n",
              "      <td>90940</td>\n",
              "    </tr>\n",
              "    <tr>\n",
              "      <th>19948</th>\n",
              "      <td>293070090</td>\n",
              "      <td>20140711T000000</td>\n",
              "      <td>859990.0</td>\n",
              "      <td>4</td>\n",
              "      <td>2.75</td>\n",
              "      <td>3520</td>\n",
              "      <td>5500</td>\n",
              "      <td>2.0</td>\n",
              "      <td>0</td>\n",
              "      <td>0</td>\n",
              "      <td>...</td>\n",
              "      <td>9</td>\n",
              "      <td>3520</td>\n",
              "      <td>0</td>\n",
              "      <td>2014</td>\n",
              "      <td>0</td>\n",
              "      <td>98074</td>\n",
              "      <td>47.6181</td>\n",
              "      <td>-122.056</td>\n",
              "      <td>3340</td>\n",
              "      <td>5500</td>\n",
              "    </tr>\n",
              "  </tbody>\n",
              "</table>\n",
              "<p>10 rows × 21 columns</p>\n",
              "</div>\n",
              "      <button class=\"colab-df-convert\" onclick=\"convertToInteractive('df-ade0e6d8-969a-46e5-8ffd-b57acb61c89e')\"\n",
              "              title=\"Convert this dataframe to an interactive table.\"\n",
              "              style=\"display:none;\">\n",
              "        \n",
              "  <svg xmlns=\"http://www.w3.org/2000/svg\" height=\"24px\"viewBox=\"0 0 24 24\"\n",
              "       width=\"24px\">\n",
              "    <path d=\"M0 0h24v24H0V0z\" fill=\"none\"/>\n",
              "    <path d=\"M18.56 5.44l.94 2.06.94-2.06 2.06-.94-2.06-.94-.94-2.06-.94 2.06-2.06.94zm-11 1L8.5 8.5l.94-2.06 2.06-.94-2.06-.94L8.5 2.5l-.94 2.06-2.06.94zm10 10l.94 2.06.94-2.06 2.06-.94-2.06-.94-.94-2.06-.94 2.06-2.06.94z\"/><path d=\"M17.41 7.96l-1.37-1.37c-.4-.4-.92-.59-1.43-.59-.52 0-1.04.2-1.43.59L10.3 9.45l-7.72 7.72c-.78.78-.78 2.05 0 2.83L4 21.41c.39.39.9.59 1.41.59.51 0 1.02-.2 1.41-.59l7.78-7.78 2.81-2.81c.8-.78.8-2.07 0-2.86zM5.41 20L4 18.59l7.72-7.72 1.47 1.35L5.41 20z\"/>\n",
              "  </svg>\n",
              "      </button>\n",
              "      \n",
              "  <style>\n",
              "    .colab-df-container {\n",
              "      display:flex;\n",
              "      flex-wrap:wrap;\n",
              "      gap: 12px;\n",
              "    }\n",
              "\n",
              "    .colab-df-convert {\n",
              "      background-color: #E8F0FE;\n",
              "      border: none;\n",
              "      border-radius: 50%;\n",
              "      cursor: pointer;\n",
              "      display: none;\n",
              "      fill: #1967D2;\n",
              "      height: 32px;\n",
              "      padding: 0 0 0 0;\n",
              "      width: 32px;\n",
              "    }\n",
              "\n",
              "    .colab-df-convert:hover {\n",
              "      background-color: #E2EBFA;\n",
              "      box-shadow: 0px 1px 2px rgba(60, 64, 67, 0.3), 0px 1px 3px 1px rgba(60, 64, 67, 0.15);\n",
              "      fill: #174EA6;\n",
              "    }\n",
              "\n",
              "    [theme=dark] .colab-df-convert {\n",
              "      background-color: #3B4455;\n",
              "      fill: #D2E3FC;\n",
              "    }\n",
              "\n",
              "    [theme=dark] .colab-df-convert:hover {\n",
              "      background-color: #434B5C;\n",
              "      box-shadow: 0px 1px 3px 1px rgba(0, 0, 0, 0.15);\n",
              "      filter: drop-shadow(0px 1px 2px rgba(0, 0, 0, 0.3));\n",
              "      fill: #FFFFFF;\n",
              "    }\n",
              "  </style>\n",
              "\n",
              "      <script>\n",
              "        const buttonEl =\n",
              "          document.querySelector('#df-ade0e6d8-969a-46e5-8ffd-b57acb61c89e button.colab-df-convert');\n",
              "        buttonEl.style.display =\n",
              "          google.colab.kernel.accessAllowed ? 'block' : 'none';\n",
              "\n",
              "        async function convertToInteractive(key) {\n",
              "          const element = document.querySelector('#df-ade0e6d8-969a-46e5-8ffd-b57acb61c89e');\n",
              "          const dataTable =\n",
              "            await google.colab.kernel.invokeFunction('convertToInteractive',\n",
              "                                                     [key], {});\n",
              "          if (!dataTable) return;\n",
              "\n",
              "          const docLinkHtml = 'Like what you see? Visit the ' +\n",
              "            '<a target=\"_blank\" href=https://colab.research.google.com/notebooks/data_table.ipynb>data table notebook</a>'\n",
              "            + ' to learn more about interactive tables.';\n",
              "          element.innerHTML = '';\n",
              "          dataTable['output_type'] = 'display_data';\n",
              "          await google.colab.output.renderOutput(dataTable, element);\n",
              "          const docLink = document.createElement('div');\n",
              "          docLink.innerHTML = docLinkHtml;\n",
              "          element.appendChild(docLink);\n",
              "        }\n",
              "      </script>\n",
              "    </div>\n",
              "  </div>\n",
              "  "
            ]
          },
          "metadata": {},
          "execution_count": 184
        }
      ]
    },
    {
      "cell_type": "code",
      "source": [
        "df.info()"
      ],
      "metadata": {
        "id": "n0fs14KoqI3M",
        "outputId": "c12d7051-b197-4e20-a74c-42192db0a27a",
        "colab": {
          "base_uri": "https://localhost:8080/"
        }
      },
      "execution_count": 185,
      "outputs": [
        {
          "output_type": "stream",
          "name": "stdout",
          "text": [
            "<class 'pandas.core.frame.DataFrame'>\n",
            "RangeIndex: 21613 entries, 0 to 21612\n",
            "Data columns (total 21 columns):\n",
            " #   Column         Non-Null Count  Dtype  \n",
            "---  ------         --------------  -----  \n",
            " 0   id             21613 non-null  int64  \n",
            " 1   date           21613 non-null  object \n",
            " 2   price          21613 non-null  float64\n",
            " 3   bedrooms       21613 non-null  int64  \n",
            " 4   bathrooms      21613 non-null  float64\n",
            " 5   sqft_living    21613 non-null  int64  \n",
            " 6   sqft_lot       21613 non-null  int64  \n",
            " 7   floors         21613 non-null  float64\n",
            " 8   waterfront     21613 non-null  int64  \n",
            " 9   view           21613 non-null  int64  \n",
            " 10  condition      21613 non-null  int64  \n",
            " 11  grade          21613 non-null  int64  \n",
            " 12  sqft_above     21613 non-null  int64  \n",
            " 13  sqft_basement  21613 non-null  int64  \n",
            " 14  yr_built       21613 non-null  int64  \n",
            " 15  yr_renovated   21613 non-null  int64  \n",
            " 16  zipcode        21613 non-null  int64  \n",
            " 17  lat            21613 non-null  float64\n",
            " 18  long           21613 non-null  float64\n",
            " 19  sqft_living15  21613 non-null  int64  \n",
            " 20  sqft_lot15     21613 non-null  int64  \n",
            "dtypes: float64(5), int64(15), object(1)\n",
            "memory usage: 3.5+ MB\n"
          ]
        }
      ]
    },
    {
      "cell_type": "code",
      "source": [
        "df.describe()"
      ],
      "metadata": {
        "id": "1PNzDJZeqKhe",
        "outputId": "bacfb89c-72a5-49ca-ddc8-6b644010721f",
        "colab": {
          "base_uri": "https://localhost:8080/",
          "height": 364
        }
      },
      "execution_count": 186,
      "outputs": [
        {
          "output_type": "execute_result",
          "data": {
            "text/plain": [
              "                 id         price      bedrooms     bathrooms   sqft_living  \\\n",
              "count  2.161300e+04  2.161300e+04  21613.000000  21613.000000  21613.000000   \n",
              "mean   4.580302e+09  5.400881e+05      3.370842      2.114757   2079.899736   \n",
              "std    2.876566e+09  3.671272e+05      0.930062      0.770163    918.440897   \n",
              "min    1.000102e+06  7.500000e+04      0.000000      0.000000    290.000000   \n",
              "25%    2.123049e+09  3.219500e+05      3.000000      1.750000   1427.000000   \n",
              "50%    3.904930e+09  4.500000e+05      3.000000      2.250000   1910.000000   \n",
              "75%    7.308900e+09  6.450000e+05      4.000000      2.500000   2550.000000   \n",
              "max    9.900000e+09  7.700000e+06     33.000000      8.000000  13540.000000   \n",
              "\n",
              "           sqft_lot        floors    waterfront          view     condition  \\\n",
              "count  2.161300e+04  21613.000000  21613.000000  21613.000000  21613.000000   \n",
              "mean   1.510697e+04      1.494309      0.007542      0.234303      3.409430   \n",
              "std    4.142051e+04      0.539989      0.086517      0.766318      0.650743   \n",
              "min    5.200000e+02      1.000000      0.000000      0.000000      1.000000   \n",
              "25%    5.040000e+03      1.000000      0.000000      0.000000      3.000000   \n",
              "50%    7.618000e+03      1.500000      0.000000      0.000000      3.000000   \n",
              "75%    1.068800e+04      2.000000      0.000000      0.000000      4.000000   \n",
              "max    1.651359e+06      3.500000      1.000000      4.000000      5.000000   \n",
              "\n",
              "              grade    sqft_above  sqft_basement      yr_built  yr_renovated  \\\n",
              "count  21613.000000  21613.000000   21613.000000  21613.000000  21613.000000   \n",
              "mean       7.656873   1788.390691     291.509045   1971.005136     84.402258   \n",
              "std        1.175459    828.090978     442.575043     29.373411    401.679240   \n",
              "min        1.000000    290.000000       0.000000   1900.000000      0.000000   \n",
              "25%        7.000000   1190.000000       0.000000   1951.000000      0.000000   \n",
              "50%        7.000000   1560.000000       0.000000   1975.000000      0.000000   \n",
              "75%        8.000000   2210.000000     560.000000   1997.000000      0.000000   \n",
              "max       13.000000   9410.000000    4820.000000   2015.000000   2015.000000   \n",
              "\n",
              "            zipcode           lat          long  sqft_living15     sqft_lot15  \n",
              "count  21613.000000  21613.000000  21613.000000   21613.000000   21613.000000  \n",
              "mean   98077.939805     47.560053   -122.213896    1986.552492   12768.455652  \n",
              "std       53.505026      0.138564      0.140828     685.391304   27304.179631  \n",
              "min    98001.000000     47.155900   -122.519000     399.000000     651.000000  \n",
              "25%    98033.000000     47.471000   -122.328000    1490.000000    5100.000000  \n",
              "50%    98065.000000     47.571800   -122.230000    1840.000000    7620.000000  \n",
              "75%    98118.000000     47.678000   -122.125000    2360.000000   10083.000000  \n",
              "max    98199.000000     47.777600   -121.315000    6210.000000  871200.000000  "
            ],
            "text/html": [
              "\n",
              "  <div id=\"df-db1d984b-4f3f-4589-99fb-4d61a212c634\">\n",
              "    <div class=\"colab-df-container\">\n",
              "      <div>\n",
              "<style scoped>\n",
              "    .dataframe tbody tr th:only-of-type {\n",
              "        vertical-align: middle;\n",
              "    }\n",
              "\n",
              "    .dataframe tbody tr th {\n",
              "        vertical-align: top;\n",
              "    }\n",
              "\n",
              "    .dataframe thead th {\n",
              "        text-align: right;\n",
              "    }\n",
              "</style>\n",
              "<table border=\"1\" class=\"dataframe\">\n",
              "  <thead>\n",
              "    <tr style=\"text-align: right;\">\n",
              "      <th></th>\n",
              "      <th>id</th>\n",
              "      <th>price</th>\n",
              "      <th>bedrooms</th>\n",
              "      <th>bathrooms</th>\n",
              "      <th>sqft_living</th>\n",
              "      <th>sqft_lot</th>\n",
              "      <th>floors</th>\n",
              "      <th>waterfront</th>\n",
              "      <th>view</th>\n",
              "      <th>condition</th>\n",
              "      <th>grade</th>\n",
              "      <th>sqft_above</th>\n",
              "      <th>sqft_basement</th>\n",
              "      <th>yr_built</th>\n",
              "      <th>yr_renovated</th>\n",
              "      <th>zipcode</th>\n",
              "      <th>lat</th>\n",
              "      <th>long</th>\n",
              "      <th>sqft_living15</th>\n",
              "      <th>sqft_lot15</th>\n",
              "    </tr>\n",
              "  </thead>\n",
              "  <tbody>\n",
              "    <tr>\n",
              "      <th>count</th>\n",
              "      <td>2.161300e+04</td>\n",
              "      <td>2.161300e+04</td>\n",
              "      <td>21613.000000</td>\n",
              "      <td>21613.000000</td>\n",
              "      <td>21613.000000</td>\n",
              "      <td>2.161300e+04</td>\n",
              "      <td>21613.000000</td>\n",
              "      <td>21613.000000</td>\n",
              "      <td>21613.000000</td>\n",
              "      <td>21613.000000</td>\n",
              "      <td>21613.000000</td>\n",
              "      <td>21613.000000</td>\n",
              "      <td>21613.000000</td>\n",
              "      <td>21613.000000</td>\n",
              "      <td>21613.000000</td>\n",
              "      <td>21613.000000</td>\n",
              "      <td>21613.000000</td>\n",
              "      <td>21613.000000</td>\n",
              "      <td>21613.000000</td>\n",
              "      <td>21613.000000</td>\n",
              "    </tr>\n",
              "    <tr>\n",
              "      <th>mean</th>\n",
              "      <td>4.580302e+09</td>\n",
              "      <td>5.400881e+05</td>\n",
              "      <td>3.370842</td>\n",
              "      <td>2.114757</td>\n",
              "      <td>2079.899736</td>\n",
              "      <td>1.510697e+04</td>\n",
              "      <td>1.494309</td>\n",
              "      <td>0.007542</td>\n",
              "      <td>0.234303</td>\n",
              "      <td>3.409430</td>\n",
              "      <td>7.656873</td>\n",
              "      <td>1788.390691</td>\n",
              "      <td>291.509045</td>\n",
              "      <td>1971.005136</td>\n",
              "      <td>84.402258</td>\n",
              "      <td>98077.939805</td>\n",
              "      <td>47.560053</td>\n",
              "      <td>-122.213896</td>\n",
              "      <td>1986.552492</td>\n",
              "      <td>12768.455652</td>\n",
              "    </tr>\n",
              "    <tr>\n",
              "      <th>std</th>\n",
              "      <td>2.876566e+09</td>\n",
              "      <td>3.671272e+05</td>\n",
              "      <td>0.930062</td>\n",
              "      <td>0.770163</td>\n",
              "      <td>918.440897</td>\n",
              "      <td>4.142051e+04</td>\n",
              "      <td>0.539989</td>\n",
              "      <td>0.086517</td>\n",
              "      <td>0.766318</td>\n",
              "      <td>0.650743</td>\n",
              "      <td>1.175459</td>\n",
              "      <td>828.090978</td>\n",
              "      <td>442.575043</td>\n",
              "      <td>29.373411</td>\n",
              "      <td>401.679240</td>\n",
              "      <td>53.505026</td>\n",
              "      <td>0.138564</td>\n",
              "      <td>0.140828</td>\n",
              "      <td>685.391304</td>\n",
              "      <td>27304.179631</td>\n",
              "    </tr>\n",
              "    <tr>\n",
              "      <th>min</th>\n",
              "      <td>1.000102e+06</td>\n",
              "      <td>7.500000e+04</td>\n",
              "      <td>0.000000</td>\n",
              "      <td>0.000000</td>\n",
              "      <td>290.000000</td>\n",
              "      <td>5.200000e+02</td>\n",
              "      <td>1.000000</td>\n",
              "      <td>0.000000</td>\n",
              "      <td>0.000000</td>\n",
              "      <td>1.000000</td>\n",
              "      <td>1.000000</td>\n",
              "      <td>290.000000</td>\n",
              "      <td>0.000000</td>\n",
              "      <td>1900.000000</td>\n",
              "      <td>0.000000</td>\n",
              "      <td>98001.000000</td>\n",
              "      <td>47.155900</td>\n",
              "      <td>-122.519000</td>\n",
              "      <td>399.000000</td>\n",
              "      <td>651.000000</td>\n",
              "    </tr>\n",
              "    <tr>\n",
              "      <th>25%</th>\n",
              "      <td>2.123049e+09</td>\n",
              "      <td>3.219500e+05</td>\n",
              "      <td>3.000000</td>\n",
              "      <td>1.750000</td>\n",
              "      <td>1427.000000</td>\n",
              "      <td>5.040000e+03</td>\n",
              "      <td>1.000000</td>\n",
              "      <td>0.000000</td>\n",
              "      <td>0.000000</td>\n",
              "      <td>3.000000</td>\n",
              "      <td>7.000000</td>\n",
              "      <td>1190.000000</td>\n",
              "      <td>0.000000</td>\n",
              "      <td>1951.000000</td>\n",
              "      <td>0.000000</td>\n",
              "      <td>98033.000000</td>\n",
              "      <td>47.471000</td>\n",
              "      <td>-122.328000</td>\n",
              "      <td>1490.000000</td>\n",
              "      <td>5100.000000</td>\n",
              "    </tr>\n",
              "    <tr>\n",
              "      <th>50%</th>\n",
              "      <td>3.904930e+09</td>\n",
              "      <td>4.500000e+05</td>\n",
              "      <td>3.000000</td>\n",
              "      <td>2.250000</td>\n",
              "      <td>1910.000000</td>\n",
              "      <td>7.618000e+03</td>\n",
              "      <td>1.500000</td>\n",
              "      <td>0.000000</td>\n",
              "      <td>0.000000</td>\n",
              "      <td>3.000000</td>\n",
              "      <td>7.000000</td>\n",
              "      <td>1560.000000</td>\n",
              "      <td>0.000000</td>\n",
              "      <td>1975.000000</td>\n",
              "      <td>0.000000</td>\n",
              "      <td>98065.000000</td>\n",
              "      <td>47.571800</td>\n",
              "      <td>-122.230000</td>\n",
              "      <td>1840.000000</td>\n",
              "      <td>7620.000000</td>\n",
              "    </tr>\n",
              "    <tr>\n",
              "      <th>75%</th>\n",
              "      <td>7.308900e+09</td>\n",
              "      <td>6.450000e+05</td>\n",
              "      <td>4.000000</td>\n",
              "      <td>2.500000</td>\n",
              "      <td>2550.000000</td>\n",
              "      <td>1.068800e+04</td>\n",
              "      <td>2.000000</td>\n",
              "      <td>0.000000</td>\n",
              "      <td>0.000000</td>\n",
              "      <td>4.000000</td>\n",
              "      <td>8.000000</td>\n",
              "      <td>2210.000000</td>\n",
              "      <td>560.000000</td>\n",
              "      <td>1997.000000</td>\n",
              "      <td>0.000000</td>\n",
              "      <td>98118.000000</td>\n",
              "      <td>47.678000</td>\n",
              "      <td>-122.125000</td>\n",
              "      <td>2360.000000</td>\n",
              "      <td>10083.000000</td>\n",
              "    </tr>\n",
              "    <tr>\n",
              "      <th>max</th>\n",
              "      <td>9.900000e+09</td>\n",
              "      <td>7.700000e+06</td>\n",
              "      <td>33.000000</td>\n",
              "      <td>8.000000</td>\n",
              "      <td>13540.000000</td>\n",
              "      <td>1.651359e+06</td>\n",
              "      <td>3.500000</td>\n",
              "      <td>1.000000</td>\n",
              "      <td>4.000000</td>\n",
              "      <td>5.000000</td>\n",
              "      <td>13.000000</td>\n",
              "      <td>9410.000000</td>\n",
              "      <td>4820.000000</td>\n",
              "      <td>2015.000000</td>\n",
              "      <td>2015.000000</td>\n",
              "      <td>98199.000000</td>\n",
              "      <td>47.777600</td>\n",
              "      <td>-121.315000</td>\n",
              "      <td>6210.000000</td>\n",
              "      <td>871200.000000</td>\n",
              "    </tr>\n",
              "  </tbody>\n",
              "</table>\n",
              "</div>\n",
              "      <button class=\"colab-df-convert\" onclick=\"convertToInteractive('df-db1d984b-4f3f-4589-99fb-4d61a212c634')\"\n",
              "              title=\"Convert this dataframe to an interactive table.\"\n",
              "              style=\"display:none;\">\n",
              "        \n",
              "  <svg xmlns=\"http://www.w3.org/2000/svg\" height=\"24px\"viewBox=\"0 0 24 24\"\n",
              "       width=\"24px\">\n",
              "    <path d=\"M0 0h24v24H0V0z\" fill=\"none\"/>\n",
              "    <path d=\"M18.56 5.44l.94 2.06.94-2.06 2.06-.94-2.06-.94-.94-2.06-.94 2.06-2.06.94zm-11 1L8.5 8.5l.94-2.06 2.06-.94-2.06-.94L8.5 2.5l-.94 2.06-2.06.94zm10 10l.94 2.06.94-2.06 2.06-.94-2.06-.94-.94-2.06-.94 2.06-2.06.94z\"/><path d=\"M17.41 7.96l-1.37-1.37c-.4-.4-.92-.59-1.43-.59-.52 0-1.04.2-1.43.59L10.3 9.45l-7.72 7.72c-.78.78-.78 2.05 0 2.83L4 21.41c.39.39.9.59 1.41.59.51 0 1.02-.2 1.41-.59l7.78-7.78 2.81-2.81c.8-.78.8-2.07 0-2.86zM5.41 20L4 18.59l7.72-7.72 1.47 1.35L5.41 20z\"/>\n",
              "  </svg>\n",
              "      </button>\n",
              "      \n",
              "  <style>\n",
              "    .colab-df-container {\n",
              "      display:flex;\n",
              "      flex-wrap:wrap;\n",
              "      gap: 12px;\n",
              "    }\n",
              "\n",
              "    .colab-df-convert {\n",
              "      background-color: #E8F0FE;\n",
              "      border: none;\n",
              "      border-radius: 50%;\n",
              "      cursor: pointer;\n",
              "      display: none;\n",
              "      fill: #1967D2;\n",
              "      height: 32px;\n",
              "      padding: 0 0 0 0;\n",
              "      width: 32px;\n",
              "    }\n",
              "\n",
              "    .colab-df-convert:hover {\n",
              "      background-color: #E2EBFA;\n",
              "      box-shadow: 0px 1px 2px rgba(60, 64, 67, 0.3), 0px 1px 3px 1px rgba(60, 64, 67, 0.15);\n",
              "      fill: #174EA6;\n",
              "    }\n",
              "\n",
              "    [theme=dark] .colab-df-convert {\n",
              "      background-color: #3B4455;\n",
              "      fill: #D2E3FC;\n",
              "    }\n",
              "\n",
              "    [theme=dark] .colab-df-convert:hover {\n",
              "      background-color: #434B5C;\n",
              "      box-shadow: 0px 1px 3px 1px rgba(0, 0, 0, 0.15);\n",
              "      filter: drop-shadow(0px 1px 2px rgba(0, 0, 0, 0.3));\n",
              "      fill: #FFFFFF;\n",
              "    }\n",
              "  </style>\n",
              "\n",
              "      <script>\n",
              "        const buttonEl =\n",
              "          document.querySelector('#df-db1d984b-4f3f-4589-99fb-4d61a212c634 button.colab-df-convert');\n",
              "        buttonEl.style.display =\n",
              "          google.colab.kernel.accessAllowed ? 'block' : 'none';\n",
              "\n",
              "        async function convertToInteractive(key) {\n",
              "          const element = document.querySelector('#df-db1d984b-4f3f-4589-99fb-4d61a212c634');\n",
              "          const dataTable =\n",
              "            await google.colab.kernel.invokeFunction('convertToInteractive',\n",
              "                                                     [key], {});\n",
              "          if (!dataTable) return;\n",
              "\n",
              "          const docLinkHtml = 'Like what you see? Visit the ' +\n",
              "            '<a target=\"_blank\" href=https://colab.research.google.com/notebooks/data_table.ipynb>data table notebook</a>'\n",
              "            + ' to learn more about interactive tables.';\n",
              "          element.innerHTML = '';\n",
              "          dataTable['output_type'] = 'display_data';\n",
              "          await google.colab.output.renderOutput(dataTable, element);\n",
              "          const docLink = document.createElement('div');\n",
              "          docLink.innerHTML = docLinkHtml;\n",
              "          element.appendChild(docLink);\n",
              "        }\n",
              "      </script>\n",
              "    </div>\n",
              "  </div>\n",
              "  "
            ]
          },
          "metadata": {},
          "execution_count": 186
        }
      ]
    },
    {
      "cell_type": "code",
      "source": [
        "df.drop('id', axis = 1, inplace = True)\n",
        "df.drop('date', axis = 1, inplace = True)\n",
        "df.drop('zipcode', axis = 1, inplace = True)\n",
        "df.drop('lat', axis = 1, inplace = True)\n",
        "df.drop('long', axis = 1, inplace = True)\n"
      ],
      "metadata": {
        "id": "0KUD8T08qMmq"
      },
      "execution_count": 187,
      "outputs": []
    },
    {
      "cell_type": "code",
      "source": [
        "plt.figure(figsize=(12,8)) \n",
        "sns.heatmap(df.corr(), annot=True, cmap='Dark2_r', linewidths = 2)\n",
        "plt.show()"
      ],
      "metadata": {
        "id": "r-jk_nHmqKpp",
        "outputId": "7e5c4c0f-18f2-46f8-bcd0-87476fd6b289",
        "colab": {
          "base_uri": "https://localhost:8080/",
          "height": 551
        }
      },
      "execution_count": 188,
      "outputs": [
        {
          "output_type": "display_data",
          "data": {
            "text/plain": [
              "<Figure size 864x576 with 2 Axes>"
            ],
            "image/png": "[encoded data removed]"
          },
          "metadata": {
            "needs_background": "light"
          }
        }
      ]
    },
    {
      "cell_type": "code",
      "source": [
        "columns = df.columns.drop('price')\n",
        "\n",
        "features = columns\n",
        "label = ['price']\n",
        "\n",
        "X = df[features]\n",
        "y = df[label]"
      ],
      "metadata": {
        "id": "p4zqCnFwq7Oc"
      },
      "execution_count": 189,
      "outputs": []
    },
    {
      "cell_type": "code",
      "source": [
        "from sklearn.model_selection import train_test_split\n",
        "X_train, X_test, y_train, y_test = train_test_split(X, y, test_size = 0.1, random_state = 101)\n",
        "\n",
        "print(f'Numero total de registros en la bdd: {len(X)}')\n",
        "print(\"*****\"*10)\n",
        "print(f'Numero total de registros en el training set: {len(X_train)}')\n",
        "print(f'Tamaño de X_train: {X_train.shape}')\n",
        "print(\"*****\"*10)\n",
        "print(f'Mumero total de registros en el test dataset: {len(X_test)}')\n",
        "print(f'Tamaño del X_test: {X_test.shape}')"
      ],
      "metadata": {
        "id": "p91PEVPLq93-",
        "outputId": "e84d801e-28c3-439f-8fec-01c68475ef4d",
        "colab": {
          "base_uri": "https://localhost:8080/"
        }
      },
      "execution_count": 190,
      "outputs": [
        {
          "output_type": "stream",
          "name": "stdout",
          "text": [
            "Numero total de registros en la bdd: 21613\n",
            "**************************************************\n",
            "Numero total de registros en el training set: 19451\n",
            "Tamaño de X_train: (19451, 15)\n",
            "**************************************************\n",
            "Mumero total de registros en el test dataset: 2162\n",
            "Tamaño del X_test: (2162, 15)\n"
          ]
        }
      ]
    },
    {
      "cell_type": "code",
      "source": [
        "#tu codigo aquí"
      ],
      "metadata": {
        "id": "0faHrN8-rv9V"
      },
      "execution_count": 191,
      "outputs": []
    }
  ]
}